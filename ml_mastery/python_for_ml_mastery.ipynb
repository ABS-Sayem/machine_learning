{
 "cells": [
  {
   "cell_type": "markdown",
   "metadata": {},
   "source": [
    "* `Course Link`: [python for machine learning - ml mastery](https://machinelearningmastery.com/python-for-machine-learning-7-day-mini-course/)"
   ]
  },
  {
   "cell_type": "markdown",
   "metadata": {},
   "source": [
    "**Lesson 01: Manipulating lists**"
   ]
  },
  {
   "cell_type": "markdown",
   "metadata": {},
   "source": [
    "`practice`"
   ]
  },
  {
   "cell_type": "code",
   "execution_count": 5,
   "metadata": {},
   "outputs": [
    {
     "name": "stdout",
     "output_type": "stream",
     "text": [
      "[1, 2, 3, 'append']\n",
      "1\n",
      "append\n",
      "[3, 'append']\n",
      "[0, 1, 2, 3, 4, 5, 6, 7, 8, 9]\n",
      "[0, 2, 4, 6, 8]\n",
      "[1, 3, 5, 7, 9]\n"
     ]
    }
   ],
   "source": [
    "list0 = [1, 2, 3]   # define a list\n",
    "list0.append(\"append\")  # append item into list\n",
    "print(list0)    # whole list\n",
    "print(list0[0])     # python list is zero indexed\n",
    "print(list0[-1])    # python list allow negative indices - counting from back\n",
    "print(list0[-2:])   # slice of a list\n",
    "\n",
    "list1 = [0, 1, 2, 3, 4, 5, 6, 7, 8, 9]\n",
    "print(list1)\n",
    "print(list1[::2])   # even numbers - start from idx 0, step is 2\n",
    "print(list1[1::2])  # odd numbers - start from idx 1, step is 2"
   ]
  },
  {
   "cell_type": "markdown",
   "metadata": {},
   "source": [
    "**`task`**: *In the above example of getting odd numbers from a list of 1 to 10, you can make a step size of -2 to ask the list go backward. How can you use the slicing syntax to print [9,7,5,3,1]? How about [7,5,3]?*"
   ]
  },
  {
   "cell_type": "code",
   "execution_count": 13,
   "metadata": {},
   "outputs": [
    {
     "name": "stdout",
     "output_type": "stream",
     "text": [
      "[9, 7, 5, 3, 1]\n",
      "[7, 5, 3]\n"
     ]
    }
   ],
   "source": [
    "list1 = [0, 1, 2, 3, 4, 5, 6, 7, 8, 9]\n",
    "print(list1[::-2])  # odd numbers from back\n",
    "print(list1[-3:2:-2])   # odd numbers excluding 1st and last odd numbers"
   ]
  },
  {
   "cell_type": "markdown",
   "metadata": {},
   "source": [
    "**Lesson 02: Dictionaries**"
   ]
  },
  {
   "cell_type": "markdown",
   "metadata": {},
   "source": [
    "`practice`"
   ]
  },
  {
   "cell_type": "code",
   "execution_count": 35,
   "metadata": {},
   "outputs": [
    {
     "name": "stdout",
     "output_type": "stream",
     "text": [
      "{'laptop': 70, 'phone': 25, 'desktop': 50, 'tablet': 30}\n",
      "A laptop costs about 70k bdt.\n",
      "Keyboard costs 1k bdt\n",
      "A mouse costs about 500 bdt.\n",
      "A pendrive costs about None bdt.\n",
      "['laptop', 'phone', 'desktop', 'tablet']\n",
      "[70, 25, 50, 30]\n",
      "[('laptop', 70), ('phone', 25), ('desktop', 50), ('tablet', 30)]\n",
      "{'apple': 2.5, 'banana': 2, 'mango': None, 'orange': 3.0}\n"
     ]
    }
   ],
   "source": [
    "# create a dict [dictionary is a key:value pair]\n",
    "price = {\n",
    "    \"laptop\": 70,\n",
    "    \"phone\": 25,\n",
    "    \"desktop\": 50\n",
    "}\n",
    "price[\"tablet\"] = 30    # append to dict\n",
    "print(price)\n",
    "print(f\"A laptop costs about {price['laptop']}k bdt.\")\n",
    "\n",
    "if \"keyboard\" in price: print(f\"Keyboard costs {price['keyboard']}k bdt\")\n",
    "else: print(f\"Keyboard costs 1k bdt\")\n",
    "\n",
    "print(f\"A mouse costs about {price.get('mouse', 500)} bdt.\")    # it doesn't append the item to dict\n",
    "print(f\"A pendrive costs about {price.get('mouse')} bdt.\")  # default None if value not given\n",
    "\n",
    "gadgets = price.keys(); print(list(gadgets))  # check the keys, make list of keys for better seen\n",
    "prices = list(price.values()); print(prices)  # check values, make list of keys for better seen\n",
    "print(list(price.items()))      # item() - gets all the pairs\n",
    "\n",
    "# merge two dicts using list manupulation, since they are pairs in a list\n",
    "dict0 = {\n",
    "    \"apple\": 2.5,\n",
    "    \"banana\": 2,\n",
    "    \"mango\": None\n",
    "}\n",
    "dict1 = {\"orange\": 3.0}\n",
    "# make two seperate lists of two dicts\n",
    "item0 = list(dict0.items())\n",
    "item1 = list(dict1.items())\n",
    "# merge them and make a dict\n",
    "dictx = dict(item0 + item1)\n",
    "print(dictx)"
   ]
  },
  {
   "cell_type": "markdown",
   "metadata": {},
   "source": [
    "**`task`:** *Depending on your version of Python, the last example above can have a simplified syntax:*"
   ]
  },
  {
   "cell_type": "code",
   "execution_count": 39,
   "metadata": {},
   "outputs": [
    {
     "name": "stdout",
     "output_type": "stream",
     "text": [
      "{'apple': 2.5, 'banana': 2, 'mango': None, 'orange': 3.0}\n",
      "Keys  : ['apple', 'banana', 'mango', 'orange']\n",
      "Values: [2.5, 2, None, 3.0]\n"
     ]
    }
   ],
   "source": [
    "# merge two dicts\n",
    "dict0 = {\n",
    "    \"apple\": 2.5,\n",
    "    \"banana\": 2,\n",
    "    \"mango\": None\n",
    "}\n",
    "dict1 = {\"orange\": 3.0}\n",
    "\n",
    "dictx = dict(list(dict0.items()) + list(dict1.items()))\n",
    "print(dictx)\n",
    "print(f\"Keys  : {list(dictx.keys())}\")\n",
    "print(f\"Values: {list(dictx.values())}\")"
   ]
  }
 ],
 "metadata": {
  "kernelspec": {
   "display_name": "Python 3",
   "language": "python",
   "name": "python3"
  },
  "language_info": {
   "codemirror_mode": {
    "name": "ipython",
    "version": 3
   },
   "file_extension": ".py",
   "mimetype": "text/x-python",
   "name": "python",
   "nbconvert_exporter": "python",
   "pygments_lexer": "ipython3",
   "version": "3.11.4"
  }
 },
 "nbformat": 4,
 "nbformat_minor": 2
}
