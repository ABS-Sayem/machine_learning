{
 "cells": [
  {
   "cell_type": "markdown",
   "metadata": {},
   "source": [
    "* `Course Link`: [python for machine learning - ml mastery](https://machinelearningmastery.com/python-for-machine-learning-7-day-mini-course/)"
   ]
  },
  {
   "cell_type": "markdown",
   "metadata": {},
   "source": [
    "##### **Lesson 01: Manipulating lists**"
   ]
  },
  {
   "cell_type": "markdown",
   "metadata": {},
   "source": [
    "`practice`"
   ]
  },
  {
   "cell_type": "code",
   "execution_count": 5,
   "metadata": {},
   "outputs": [
    {
     "name": "stdout",
     "output_type": "stream",
     "text": [
      "[1, 2, 3, 'append']\n",
      "1\n",
      "append\n",
      "[3, 'append']\n",
      "[0, 1, 2, 3, 4, 5, 6, 7, 8, 9]\n",
      "[0, 2, 4, 6, 8]\n",
      "[1, 3, 5, 7, 9]\n"
     ]
    }
   ],
   "source": [
    "list0 = [1, 2, 3]   # define a list\n",
    "list0.append(\"append\")  # append item into list\n",
    "print(list0)    # whole list\n",
    "print(list0[0])     # python list is zero indexed\n",
    "print(list0[-1])    # python list allow negative indices - counting from back\n",
    "print(list0[-2:])   # slice of a list\n",
    "\n",
    "list1 = [0, 1, 2, 3, 4, 5, 6, 7, 8, 9]\n",
    "print(list1)\n",
    "print(list1[::2])   # even numbers - start from idx 0, step is 2\n",
    "print(list1[1::2])  # odd numbers - start from idx 1, step is 2"
   ]
  },
  {
   "cell_type": "markdown",
   "metadata": {},
   "source": [
    "**`task`**: *In the above example of getting odd numbers from a list of 1 to 10, you can make a step size of -2 to ask the list go backward. How can you use the slicing syntax to print [9,7,5,3,1]? How about [7,5,3]?*"
   ]
  },
  {
   "cell_type": "code",
   "execution_count": 13,
   "metadata": {},
   "outputs": [
    {
     "name": "stdout",
     "output_type": "stream",
     "text": [
      "[9, 7, 5, 3, 1]\n",
      "[7, 5, 3]\n"
     ]
    }
   ],
   "source": [
    "list1 = [0, 1, 2, 3, 4, 5, 6, 7, 8, 9]\n",
    "print(list1[::-2])  # odd numbers from back\n",
    "print(list1[-3:2:-2])   # odd numbers excluding 1st and last odd numbers"
   ]
  },
  {
   "cell_type": "markdown",
   "metadata": {},
   "source": [
    "##### **Lesson 02: Dictionaries**"
   ]
  },
  {
   "cell_type": "markdown",
   "metadata": {},
   "source": [
    "`practice`"
   ]
  },
  {
   "cell_type": "code",
   "execution_count": 35,
   "metadata": {},
   "outputs": [
    {
     "name": "stdout",
     "output_type": "stream",
     "text": [
      "{'laptop': 70, 'phone': 25, 'desktop': 50, 'tablet': 30}\n",
      "A laptop costs about 70k bdt.\n",
      "Keyboard costs 1k bdt\n",
      "A mouse costs about 500 bdt.\n",
      "A pendrive costs about None bdt.\n",
      "['laptop', 'phone', 'desktop', 'tablet']\n",
      "[70, 25, 50, 30]\n",
      "[('laptop', 70), ('phone', 25), ('desktop', 50), ('tablet', 30)]\n",
      "{'apple': 2.5, 'banana': 2, 'mango': None, 'orange': 3.0}\n"
     ]
    }
   ],
   "source": [
    "# create a dict [dictionary is a key:value pair]\n",
    "price = {\n",
    "    \"laptop\": 70,\n",
    "    \"phone\": 25,\n",
    "    \"desktop\": 50\n",
    "}\n",
    "price[\"tablet\"] = 30    # append to dict\n",
    "print(price)\n",
    "print(f\"A laptop costs about {price['laptop']}k bdt.\")\n",
    "\n",
    "if \"keyboard\" in price: print(f\"Keyboard costs {price['keyboard']}k bdt\")\n",
    "else: print(f\"Keyboard costs 1k bdt\")\n",
    "\n",
    "print(f\"A mouse costs about {price.get('mouse', 500)} bdt.\")    # it doesn't append the item to dict\n",
    "print(f\"A pendrive costs about {price.get('mouse')} bdt.\")  # default None if value not given\n",
    "\n",
    "gadgets = price.keys(); print(list(gadgets))  # check the keys, make list of keys for better seen\n",
    "prices = list(price.values()); print(prices)  # check values, make list of keys for better seen\n",
    "print(list(price.items()))      # item() - gets all the pairs\n",
    "\n",
    "# merge two dicts using list manupulation, since they are pairs in a list\n",
    "dict0 = {\n",
    "    \"apple\": 2.5,\n",
    "    \"banana\": 2,\n",
    "    \"mango\": None\n",
    "}\n",
    "dict1 = {\"orange\": 3.0}\n",
    "# make two seperate lists of two dicts\n",
    "item0 = list(dict0.items())\n",
    "item1 = list(dict1.items())\n",
    "# merge them and make a dict\n",
    "dictx = dict(item0 + item1)\n",
    "print(dictx)"
   ]
  },
  {
   "cell_type": "markdown",
   "metadata": {},
   "source": [
    "**`task`:** *Depending on your version of Python, the last example above can have a simplified syntax:*"
   ]
  },
  {
   "cell_type": "code",
   "execution_count": 2,
   "metadata": {},
   "outputs": [
    {
     "name": "stdout",
     "output_type": "stream",
     "text": [
      "{'apple': 2.5, 'banana': 2, 'mango': None, 'orange': 3.0}\n",
      "Keys  : ['apple', 'banana', 'mango', 'orange']\n",
      "Values: [2.5, 2, None, 3.0]\n"
     ]
    }
   ],
   "source": [
    "# merge two dicts\n",
    "dict0 = {\n",
    "    \"apple\": 2.5,\n",
    "    \"banana\": 2,\n",
    "    \"mango\": None\n",
    "}\n",
    "dict1 = {\"orange\": 3.0}\n",
    "\n",
    "dictx = dict(list(dict0.items()) + list(dict1.items()))\n",
    "print(dictx)\n",
    "print(f\"Keys  : {list(dictx.keys())}\")\n",
    "print(f\"Values: {list(dictx.values())}\")"
   ]
  },
  {
   "cell_type": "code",
   "execution_count": 3,
   "metadata": {},
   "outputs": [
    {
     "name": "stdout",
     "output_type": "stream",
     "text": [
      "{'apple': 2.5, 'banana': 2, 'mango': None, 'orange': 3.0}\n",
      "{'apple': 2.5, 'banana': 2, 'mango': None, 'orange': 3.0}\n"
     ]
    }
   ],
   "source": [
    "dicty = dict0 | dict1; print(dicty)\n",
    "dictz = {**dict0, **dict1}; print(dictz)"
   ]
  },
  {
   "cell_type": "markdown",
   "metadata": {},
   "source": [
    "##### **Lesson 03: Tuples**\n",
    "* *tuple is immutable, means- can not update the value once created*\n",
    "* *tuple is handy to represent multiple return values of an function*"
   ]
  },
  {
   "cell_type": "markdown",
   "metadata": {},
   "source": [
    "`practice`"
   ]
  },
  {
   "cell_type": "code",
   "execution_count": 10,
   "metadata": {},
   "outputs": [
    {
     "name": "stdout",
     "output_type": "stream",
     "text": [
      "2\n",
      "2\n",
      "(2, 4, 8)\n",
      "2, 4, 8\n",
      "0 : []\n",
      "2 : 5\n",
      "5 : 2\n"
     ]
    }
   ],
   "source": [
    "tuple0 = (1, 2, 3)  # define a tuple\n",
    "# access elements [just like list]\n",
    "print(tuple0[1])\n",
    "print(tuple0[-2])\n",
    "\n",
    "# use in function to return multiple values\n",
    "def power(num):\n",
    "    return num, num**2, num**3\n",
    "print(power(2))\n",
    "\n",
    "# unpacking syntax\n",
    "itself, squared, cubed = power(2)\n",
    "print(f\"{itself}, {squared}, {cubed}\")\n",
    "\n",
    "# assign multiple values in one line\n",
    "count, elements = 0, []\n",
    "print(f\"{count} : {elements}\")\n",
    "\n",
    "# swapping value of two variables\n",
    "a, b = 2, 5; print(f\"{a} : {b}\")\n",
    "a, b = b, a; print(f\"{a} : {b}\")\n"
   ]
  },
  {
   "cell_type": "markdown",
   "metadata": {},
   "source": [
    "**`task`:** *Consider a list of tuples: `x=[(\"alpha\", 0.5), (\"gamma\", 0.1), (\"beta\", 1.1), (\"alpha\", -3)]`. You can sort this list using sorted(x). What is the result? From the result of comparing tuples, how does Python understand which tuple is less than or greater than another? Which is greater, the tuple (\"alpha\", 0.5) or the tuple (\"alpha\", 0.5, 1)?*"
   ]
  },
  {
   "cell_type": "code",
   "execution_count": 6,
   "metadata": {},
   "outputs": [
    {
     "name": "stdout",
     "output_type": "stream",
     "text": [
      "[('alpha', 0.5), ('gamma', 0.1), ('beta', 1.1), ('alpha', -3)]\n",
      "[('alpha', -3), ('alpha', 0.5), ('beta', 1.1), ('gamma', 0.1)]\n",
      "(alpha, -3) < (alpha, 0.5) < (beta, 1.1) < (gamma, 0.1)\n",
      "(alpha, 0.5, 1) > (alpha, 0.5)\n",
      "(alpha, 0.5) < (alpha, 0.5, 1)\n"
     ]
    }
   ],
   "source": [
    "x = [(\"alpha\", 0.5), (\"gamma\", 0.1), (\"beta\", 1.1), (\"alpha\", -3)]; print(x)\n",
    "x = sorted(x); print(x)\n",
    "print(\" < \".join(f\"({a}, {b})\" for a,b in x))\n",
    "\n",
    "def compare_tuple(tuple_list, method=\"descending\"):\n",
    "    def custom_key(tup):\n",
    "        return (len(tup), tup[1])\n",
    "    \n",
    "    if method == \"descending\":\n",
    "        sorted_list = sorted(tuple_list, key=custom_key, reverse=False)\n",
    "        return \" < \".join(f\"({', '.join(map(str, tup))})\" for tup in sorted_list)\n",
    "    elif method == \"ascending\":\n",
    "        sorted_list = sorted(tuple_list, key=custom_key, reverse=True)\n",
    "        return \" > \".join(f\"({', '.join(map(str, tup))})\" for tup in sorted_list)\n",
    "    \n",
    "# Example usage\n",
    "tuple_list = [(\"alpha\", 0.5), (\"alpha\", 0.5, 1)]\n",
    "print(compare_tuple(tuple_list, method=\"ascending\"))\n",
    "print(compare_tuple(tuple_list, method=\"descending\"))\n"
   ]
  },
  {
   "cell_type": "markdown",
   "metadata": {},
   "source": [
    "##### **Lesson 04: Strings**"
   ]
  },
  {
   "cell_type": "markdown",
   "metadata": {},
   "source": [
    "`practice`"
   ]
  },
  {
   "cell_type": "code",
   "execution_count": 9,
   "metadata": {},
   "outputs": [
    {
     "name": "stdout",
     "output_type": "stream",
     "text": [
      "String Practice\n",
      "g | String Pra | g Practic\n",
      "Yes! It starts with 'String'\n",
      "No! It doesn't ends with 'string'\n",
      "Yes! It contains 'ing'\n",
      "['String', 'Practice']\n",
      "String Template\n",
      "String Template\n",
      "String Practice (Template)\n"
     ]
    }
   ],
   "source": [
    "# define a string\n",
    "string = \"String Practice\"; print(f\"{string}\")\n",
    "# sub-string\n",
    "print(f\"{string[5]}\", end=' | '); print(f\"{string[:-5]}\", end=' | '); print(f\"{string[5:-1]}\")\n",
    "# begins and ends with sub-string\n",
    "if string.startswith(\"String\"): print(f\"Yes! It starts with 'String'\")\n",
    "if not string.endswith(\"String\"): print(f\"No! It doesn't ends with 'string'\")\n",
    "# check whether a string contains a sub-string\n",
    "if \"ing\" in string: print(f\"Yes! It contains 'ing'\")\n",
    "# spliting a string\n",
    "print(f\"{string.split()}\")  # default by a whitespace\n",
    "# templates [seen in print() fn]\n",
    "string1 = \"Template\"\n",
    "print(\"String %s\" %string1)\n",
    "print(\"String {}\".format(string1))\n",
    "print(f\"{string} ({string1})\")"
   ]
  },
  {
   "cell_type": "markdown",
   "metadata": {},
   "source": [
    "`task`\n",
    "* *This is to fill a template using a dictionary. The first uses the %-syntax while the second uses format syntax. Can you modify the code above to print only 2 decimal places?*"
   ]
  },
  {
   "cell_type": "code",
   "execution_count": 15,
   "metadata": {},
   "outputs": [
    {
     "name": "stdout",
     "output_type": "stream",
     "text": [
      "latitude = 51.51\n",
      "latitude = 51.51, longitude = -0.13\n"
     ]
    }
   ],
   "source": [
    "coord = {'lat': 51.5072, 'lon': -0.1276}\n",
    "print(\"latitude = %.2f\" %coord['lat'])\n",
    "print(\"latitude = {lat:.2f}, longitude = {lon:.2f}\".format(**coord))"
   ]
  },
  {
   "cell_type": "markdown",
   "metadata": {},
   "source": [
    "##### **Lesson 05: List Comprehension**"
   ]
  },
  {
   "cell_type": "markdown",
   "metadata": {},
   "source": [
    "`practice`"
   ]
  },
  {
   "cell_type": "code",
   "execution_count": 5,
   "metadata": {},
   "outputs": [
    {
     "name": "stdout",
     "output_type": "stream",
     "text": [
      "[3, 5, 6, 9, 10, 12, 15, 18, 20, 21, 24, 25, 27, 30, 33, 35, 36, 39, 40, 42, 45, 48, 50, 51, 54, 55, 57, 60, 63, 65, 66, 69, 70, 72, 75, 78, 80, 81, 84, 85, 87, 90, 93, 95, 96, 99]\n",
      "['1', '2', 'fizz', '4', 'buzz', 'fizz', '7', '8', 'fizz', 'buzz', '11', 'fizz', '13', '14', 'fizz-buzz', '16', '17', 'fizz', '19', 'buzz', 'fizz', '22', '23', 'fizz', 'buzz', '26', 'fizz', '28', '29', 'fizz-buzz', '31', '32', 'fizz', '34', 'buzz', 'fizz', '37', '38', 'fizz', 'buzz', '41', 'fizz', '43', '44', 'fizz-buzz', '46', '47', 'fizz', '49', 'buzz', 'fizz', '52', '53', 'fizz', 'buzz', '56', 'fizz', '58', '59', 'fizz-buzz', '61', '62', 'fizz', '64', 'buzz', 'fizz', '67', '68', 'fizz', 'buzz', '71', 'fizz', '73', '74', 'fizz-buzz', '76', '77', 'fizz', '79', 'buzz', 'fizz', '82', '83', 'fizz', 'buzz', '86', 'fizz', '88', '89', 'fizz-buzz', '91', '92', 'fizz', '94', 'buzz', 'fizz', '97', '98', 'fizz']\n",
      "[0, 1, 2, 3, 4, 5, 6, 7, 8, 9]\n",
      "[0, 1, 2, 3, 4, 5, 6, 7, 8, 9]\n",
      "[0, 1, 2, 3, 4, 5, 6, 7, 8, 9]\n",
      "[0, 1, 2, 3, 4, 5, 6, 7, 8, 9]\n",
      "[0, 1, 2, 3, 4, 5, 6, 7, 8, 9]\n",
      "[0, 1, 2, 3, 4, 5, 6, 7, 8, 9]\n",
      "[0, 1, 2, 3, 4, 5, 6, 7, 8, 9]\n",
      "[0, 1, 2, 3, 4, 5, 6, 7, 8, 9]\n",
      "[0, 1, 2, 3, 4, 5, 6, 7, 8, 9]\n",
      "[0, 1, 2, 3, 4, 5, 6, 7, 8, 9]\n",
      "['solidwater', 'solid', 'liquidwater', 'liquid', 'water']\n",
      "['solidwater', 'solidmercury', 'solid', 'liquidwater', 'liquidmercury', 'liquid', 'water', 'mercury']\n"
     ]
    }
   ],
   "source": [
    "# The famous fizz-buzz problem prints 1 to 100 with all 3-multiples replaced with “fizz,” all 5-multiples replaced with “buzz,” \n",
    "# and if a number is both a multiple of 3 and 5, print “fizz-buzz”.\n",
    "\n",
    "numbers = [number for number in range(1,100) if number%15==0 or number%3==0 or number%5==0]\n",
    "print(numbers)\n",
    "formated_numbers = ['fizz-buzz' if number%15==0 else 'fizz' if number%3==0 else 'buzz' if number%5==0 else str(number) for number in range(1,100)]\n",
    "print(formated_numbers)\n",
    "\n",
    "# print a 10x10 multiplication table\n",
    "table_10x10 = [[n for n in range(10)] for m in range(10)]\n",
    "for row in table_10x10: print(row)\n",
    "\n",
    "# combine strings (power set except {})\n",
    "combined_string0 = [str1+str2 for str1 in ['solid', 'liquid', ''] for str2 in ['water', ''] if not (str1=='' and str2=='')]\n",
    "print(combined_string0)\n",
    "combined_string1 = [str1+str2 for str1 in ['solid', 'liquid', ''] for str2 in ['water', 'mercury', ''] if not (str1=='' and str2=='')]\n",
    "print(combined_string1)"
   ]
  },
  {
   "cell_type": "markdown",
   "metadata": {},
   "source": [
    "`task`\n",
    "* *Python also has a dictionary comprehension. The syntax is: `double = {n: 2*n for n in range(1,11)}`. Now try to create a dictionary mapping using dictionary comprehension that maps a string x to its length len(x) for these strings:*\n",
    "* `keys = [\"one\", \"two\", \"three\", \"four\", \"five\", \"six\", \"seven\", \"eight\", \"nine\", \"ten\"]`\n",
    "* `mapping = {...}`"
   ]
  },
  {
   "cell_type": "code",
   "execution_count": 6,
   "metadata": {},
   "outputs": [
    {
     "name": "stdout",
     "output_type": "stream",
     "text": [
      "{1: 2, 2: 4, 3: 6, 4: 8, 5: 10, 6: 12, 7: 14, 8: 16, 9: 18, 10: 20}\n",
      "{'one': 3, 'two': 3, 'three': 5, 'four': 4, 'five': 4, 'six': 3, 'seven': 5, 'eight': 5, 'nine': 4, 'ten': 3}\n"
     ]
    }
   ],
   "source": [
    "double = {n:2*n for n in range(1,11)}; print(double)\n",
    "keys = [\"one\", \"two\", \"three\", \"four\", \"five\", \"six\", \"seven\", \"eight\", \"nine\", \"ten\"]\n",
    "mapping = {elem:len(elem) for elem in keys}; print(mapping)"
   ]
  },
  {
   "cell_type": "markdown",
   "metadata": {},
   "source": [
    "##### **Lesson 06: Enumerate and Zip**"
   ]
  },
  {
   "cell_type": "markdown",
   "metadata": {},
   "source": [
    "`practice`"
   ]
  },
  {
   "cell_type": "code",
   "execution_count": 18,
   "metadata": {},
   "outputs": [
    {
     "name": "stdout",
     "output_type": "stream",
     "text": [
      "0: red\n",
      "1: green\n",
      "2: blue\n",
      "3: white\n",
      "4: silver\n",
      "\n",
      "0: red\n",
      "1: green\n",
      "2: blue\n",
      "3: white\n",
      "4: silver\n",
      "\n",
      "red: mango\n",
      "green: apple\n",
      "blue: berry\n",
      "white: bread\n",
      "silver: coffee\n",
      "\n",
      "red: mango\n",
      "green: apple\n",
      "blue: berry\n",
      "white: bread\n",
      "silver: coffee\n",
      "\n",
      "red : mango : 30.02\n",
      "green : apple : 20.18\n",
      "blue : berry : 42.0\n",
      "white : bread : 76.76\n",
      "silver : coffee : 56.65\n"
     ]
    }
   ],
   "source": [
    "# formal example of a loop\n",
    "colors = ['red', 'green', 'blue', 'white', 'silver']\n",
    "for iter in range(len(colors)): print(f\"{iter}: {colors[iter]}\")\n",
    "print()\n",
    "# using 'enumerate()' for indexing  ['enumerate()' produces a tuple of the counter and the element of the list]\n",
    "for iter, color in enumerate(colors): print(f\"{iter}: {color}\")\n",
    "print()\n",
    "# if we use for loop like this\n",
    "colors = ['red', 'green', 'blue', 'white', 'silver']\n",
    "foods  = ['mango', 'apple', 'berry', 'bread', 'coffee']\n",
    "for iter in range(len(colors)): print(f\"{colors[iter]}: {foods[iter]}\")\n",
    "print()\n",
    "# we can do it using 'zip()' function:  ['zip()' take one element from each input list and put them side by side]\n",
    "for color, food in zip(colors, foods): print(f\"{color}: {food}\")\n",
    "print()\n",
    "# try three lists\n",
    "calories = [30.02, 20.18, 42.00, 76.76, 56.65]\n",
    "for color, food, calory in zip(colors, foods, calories): print(f\"{color} : {food} : {calory}\")"
   ]
  },
  {
   "cell_type": "markdown",
   "metadata": {},
   "source": [
    "`task`\n",
    "* *Very common in Python programs, we may do this:*\n",
    "```\n",
    "        results = []\n",
    "        for n in range(1, 11):\n",
    "            squared, cubed = n**2, n**3\n",
    "            results.append([n, squared, cubed])\n",
    "```\n",
    "* *Then, we can get the list of 1 to 10, the square of them, and the cube of them using zip() (note the * before results in the argument): `numbers, squares, cubes = zip(*results)`.*\n",
    "* *Try this out. Can you recombine numbers, squares, and cubes back to results? Hints: Just use zip().*"
   ]
  },
  {
   "cell_type": "code",
   "execution_count": 11,
   "metadata": {},
   "outputs": [
    {
     "name": "stdout",
     "output_type": "stream",
     "text": [
      "[[1, 1, 1], [2, 4, 8], [3, 9, 27], [4, 16, 64], [5, 25, 125], [6, 36, 216], [7, 49, 343], [8, 64, 512], [9, 81, 729], [10, 100, 1000]]\n",
      "[1, 1, 1] [2, 4, 8] [3, 9, 27] [4, 16, 64] [5, 25, 125] [6, 36, 216] [7, 49, 343] [8, 64, 512] [9, 81, 729] [10, 100, 1000]\n",
      "(1, 2, 3, 4, 5, 6, 7, 8, 9, 10) | (1, 4, 9, 16, 25, 36, 49, 64, 81, 100) | (1, 8, 27, 64, 125, 216, 343, 512, 729, 1000)\n",
      "[(1, 1, 1), (2, 4, 8), (3, 9, 27), (4, 16, 64), (5, 25, 125), (6, 36, 216), (7, 49, 343), (8, 64, 512), (9, 81, 729), (10, 100, 1000)]\n"
     ]
    }
   ],
   "source": [
    "results = []\n",
    "for number in range(1,11):\n",
    "    square, cube =  number**2, number**3\n",
    "    results.append([number, square, cube])\n",
    "# make the sub-lists into tuple: separate numbers, squares, and unpack\n",
    "print(results)  # one list\n",
    "print(*results) # unpack (seperate) elements inside the list\n",
    "numbers, squares, cubes = zip(*results)\n",
    "print(f\"{numbers} | {squares} | {cubes}\")\n",
    "\n",
    "# recombine numbers, squares, and cubes back into the results list\n",
    "result = list(zip(numbers, squares, cubes))\n",
    "print(result)"
   ]
  },
  {
   "cell_type": "markdown",
   "metadata": {},
   "source": [
    "##### **Lesson 07: Map, Filter and Reduce**\n",
    "* `map()` is to transform elements of a iterable using some function\n",
    "* `filter()` is to short-list the elements based on certain criteria\n",
    "* `reduce()` scans the elements from the iterable and combines them using a function"
   ]
  },
  {
   "cell_type": "markdown",
   "metadata": {},
   "source": [
    "`practice`"
   ]
  },
  {
   "cell_type": "code",
   "execution_count": 34,
   "metadata": {},
   "outputs": [
    {
     "name": "stdout",
     "output_type": "stream",
     "text": [
      "Map   : 1, 2, 3:fizz, 4, 5:buzz, 6:fizz, 7, 8, 9:fizz, 10:buzz, 11, 12:fizz, 13, 14, 15:fizz-buzz, 16, 17, 18:fizz, 19, 20:buzz, 21:fizz, 22, 23, 24:fizz, 25:buzz, 26, 27:fizz, 28, 29, 30:fizz-buzz, 31, 32, 33:fizz, 34, 35:buzz, 36:fizz, 37, 38, 39:fizz, 40:buzz, 41, 42:fizz, 43, 44, 45:fizz-buzz, 46, 47, 48:fizz, 49, 50:buzz, 51:fizz, 52, 53, 54:fizz, 55:buzz, 56, 57:fizz, 58, 59, 60:fizz-buzz, 61, 62, 63:fizz, 64, 65:buzz, 66:fizz, 67, 68, 69:fizz, 70:buzz, 71, 72:fizz, 73, 74, 75:fizz-buzz, 76, 77, 78:fizz, 79, 80:buzz, 81:fizz, 82, 83, 84:fizz, 85:buzz, 86, 87:fizz, 88, 89, 90:fizz-buzz, 91, 92, 93:fizz, 94, 95:buzz, 96:fizz, 97, 98, 99:fizz, 100:buzz\n",
      "Filter: [3, 6, 9, 12, 15, 18, 21, 24, 27, 30, 33, 36, 39, 42, 45, 48, 51, 54, 57, 60, 63, 66, 69, 72, 75, 78, 81, 84, 87, 90, 93, 96, 99]\n",
      "Numbers: [83, 65, 53, 100, 22, 78, 68, 93, 53, 78, 55, 53]\n",
      "Max_Num: 100\n"
     ]
    }
   ],
   "source": [
    "# use of 'map()' function\n",
    "def fizzbuzz(number):\n",
    "    if number%15 == 0: return(f\"{number}:fizz-buzz\")\n",
    "    if number%3 == 0: return(f\"{number}:fizz\")\n",
    "    if number%5 == 0: return(f\"{number}:buzz\")\n",
    "    else: return str(number)\n",
    "f_numbers = map(fizzbuzz, range(1,101))   # 'map()' consider 1st element as function and 2nd element as required attribute for the function\n",
    "#for item in f_numbers: print(item, end=\", \")     # [It can be replace by the code below]\n",
    "print(\"Map   :\", \", \".join(f_numbers))\n",
    "\n",
    "# use of 'filter()' function\n",
    "def multiple_of_3(number):\n",
    "    return number%3 == 0\n",
    "m_numbers = filter(multiple_of_3, range(1,101))\n",
    "print(\"Filter:\", list(m_numbers))\n",
    "\n",
    "# use of 'reduce()' function: can be used instead of 'max()' function, a function from module 'functools'\n",
    "from functools import reduce\n",
    "import random\n",
    "def maximum(num1, num2):\n",
    "    if num1 > num2: return num1\n",
    "    else: return num2\n",
    "r_numbers = [random.randint(1, 100) for _ in range(12)]; print(f\"Numbers: {r_numbers}\")\n",
    "# max_number = reduce(maximum, r_numbers) # it consider first two elements initialy to compare\n",
    "# we can use a default value 'negetive infinity' to compare with the first element\n",
    "max_number = reduce(maximum, r_numbers, -float(\"inf\"))  # '-float(\"inf\")' is negetive infinity\n",
    "print(f\"Max_Num: {max_number}\")\n"
   ]
  },
  {
   "cell_type": "markdown",
   "metadata": {},
   "source": [
    "`task`\n",
    "* *Let’s consider a way to convert a bitmap to an integer. If a list [6,2,0,3] is provided, we should consider the list as which bit to assert, and the result should be in binary, 1001101, or in decimal, 77. In this case, bit 0 is defined to be the least significant bit or the right most bit. We can use reduce to do this and print 77:*\n",
    "```\n",
    "        def setbit(bitmap, bit):\n",
    "            return bitmap | (2**bit)\n",
    "        assertbits = [6, 2, 0, 3]\n",
    "        bitmap = reduce(setbit, assertbits, ???)\n",
    "        print(bitmap)\n",
    "```\n",
    "* *What should be the ??? above? Why?*"
   ]
  },
  {
   "cell_type": "code",
   "execution_count": null,
   "metadata": {},
   "outputs": [],
   "source": []
  },
  {
   "cell_type": "code",
   "execution_count": 5,
   "metadata": {},
   "outputs": [
    {
     "name": "stdout",
     "output_type": "stream",
     "text": [
      "Counted : Leave: 0.5D, Late_Days: 0D, Late_Hours: 5.29H, Per_Day_Salary: 758.06BDT\n",
      "Received: 23120.95 BDT (23500 - (379.03 + 0.00 + 0.01))\n",
      "Deducted: 379.05 BDT\n"
     ]
    }
   ],
   "source": [
    "# total_salary = amount except mobile bill\n",
    "# leave_over_taken = taken_leaves_this_month - remaining_leave_days; otherwise 0\n",
    "total_salary = 23500\n",
    "days_of_running_month = 31\n",
    "leave_over_taken = 0.5\n",
    "total_late_days = 2\n",
    "total_late_hours = 5.29\n",
    "\n",
    "if total_late_days < 3: total_late_days = 0\n",
    "per_day_salary = total_salary / days_of_running_month\n",
    "leave_deduction = leave_over_taken * per_day_salary\n",
    "late_days_deduction = (total_late_days / 3) * per_day_salary\n",
    "late_hour_deduction = total_late_hours / (per_day_salary/2)\n",
    "\n",
    "salary = total_salary - (leave_deduction + late_days_deduction + late_hour_deduction)\n",
    "\n",
    "print(f\"Counted : Leave: {leave_over_taken}D, Late_Days: {total_late_days}D, Late_Hours: {total_late_hours}H, Per_Day_Salary: {per_day_salary:.2f}BDT\")\n",
    "print(f\"Received: {salary:.2f} BDT ({total_salary} - ({leave_deduction:.2f} + {late_days_deduction:.2f} + {late_hour_deduction:.2f}))\")\n",
    "print(f\"Deducted: {total_salary - salary:.2f} BDT\")       "
   ]
  }
 ],
 "metadata": {
  "kernelspec": {
   "display_name": "Python 3",
   "language": "python",
   "name": "python3"
  },
  "language_info": {
   "codemirror_mode": {
    "name": "ipython",
    "version": 3
   },
   "file_extension": ".py",
   "mimetype": "text/x-python",
   "name": "python",
   "nbconvert_exporter": "python",
   "pygments_lexer": "ipython3",
   "version": "3.11.4"
  }
 },
 "nbformat": 4,
 "nbformat_minor": 2
}
