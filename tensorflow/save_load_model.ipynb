{
 "cells": [
  {
   "cell_type": "markdown",
   "metadata": {},
   "source": [
    "### **Save and Load Model**\n",
    "###### **Here, we will see how to load a trained model and load it for further use. We will use 1st_nn model worked earlier at 3rd tutorial for this. First we will run the whole model, save the model and load the saved model for further use. We will see three ways of saving a model here.**"
   ]
  }
 ],
 "metadata": {
  "language_info": {
   "name": "python"
  },
  "orig_nbformat": 4
 },
 "nbformat": 4,
 "nbformat_minor": 2
}
