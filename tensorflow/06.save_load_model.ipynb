{
 "cells": [
  {
   "cell_type": "markdown",
   "metadata": {},
   "source": [
    "### **Save and Load Model**\n",
    "###### **Here, we will see how to load a trained model and load it for further use. We will use 1st_nn model worked earlier at 3rd tutorial for this. First we will run the whole model, save the model and load the saved model for further use. We will see three ways of saving a model here.**\n",
    "\n",
    "Three ways of saving a model ---\n",
    "* **Save whole model:** We can save the whole model\n",
    "* **Save weights:** We can save only the weights of the model\n",
    "* **Save architecture(json):** We can save only the model architecture in json format"
   ]
  },
  {
   "cell_type": "markdown",
   "metadata": {},
   "source": [
    "### **Let's Start**"
   ]
  },
  {
   "cell_type": "markdown",
   "metadata": {},
   "source": [
    "#### **Train a Model**\n",
    "###### **Here, we will use our 1st_nn model worked earlier in 3rd tutorial. We will run the whole model here and after that we will save the trained model in three ways. The 1st_nn model was trained on mnist dataset. We will copy the whole code here. For more details about the 1st_nn model, check *03.1st_nn.ipynb* project.**"
   ]
  },
  {
   "cell_type": "markdown",
   "metadata": {},
   "source": [
    "**1st NN Model on Mnist Dataset**"
   ]
  },
  {
   "cell_type": "code",
   "execution_count": 1,
   "metadata": {},
   "outputs": [
    {
     "name": "stderr",
     "output_type": "stream",
     "text": [
      "C:\\Users\\AbsSayem\\AppData\\Roaming\\Python\\Python39\\site-packages\\keras\\optimizer_v2\\adam.py:105: UserWarning: The `lr` argument is deprecated, use `learning_rate` instead.\n",
      "  super(Adam, self).__init__(name, **kwargs)\n"
     ]
    },
    {
     "name": "stdout",
     "output_type": "stream",
     "text": [
      "Epoch 1/10\n",
      "938/938 [==============================] - 4s 3ms/step - loss: 0.3022 - accuracy: 0.9172\n",
      "Epoch 2/10\n",
      "938/938 [==============================] - 3s 4ms/step - loss: 0.1381 - accuracy: 0.9606\n",
      "Epoch 3/10\n",
      "938/938 [==============================] - 3s 4ms/step - loss: 0.0948 - accuracy: 0.9727\n",
      "Epoch 4/10\n",
      "938/938 [==============================] - ETA: 0s - loss: 0.0727 - accuracy: 0.97 - 3s 3ms/step - loss: 0.0726 - accuracy: 0.9784\n",
      "Epoch 5/10\n",
      "938/938 [==============================] - 3s 4ms/step - loss: 0.0573 - accuracy: 0.9836\n",
      "Epoch 6/10\n",
      "938/938 [==============================] - 3s 4ms/step - loss: 0.0452 - accuracy: 0.9870\n",
      "Epoch 7/10\n",
      "938/938 [==============================] - 3s 4ms/step - loss: 0.0374 - accuracy: 0.9888\n",
      "Epoch 8/10\n",
      "938/938 [==============================] - 3s 4ms/step - loss: 0.0302 - accuracy: 0.9911\n",
      "Epoch 9/10\n",
      "938/938 [==============================] - 3s 3ms/step - loss: 0.0251 - accuracy: 0.9930\n",
      "Epoch 10/10\n",
      "938/938 [==============================] - 3s 3ms/step - loss: 0.0206 - accuracy: 0.9944\n"
     ]
    },
    {
     "data": {
      "text/plain": [
       "<keras.callbacks.History at 0x213001967f0>"
      ]
     },
     "execution_count": 1,
     "metadata": {},
     "output_type": "execute_result"
    }
   ],
   "source": [
    "# To ignore warnings\n",
    "import os\n",
    "os.environ['TF_CPP_MIN_LOG_LEVEL'] = '2'\n",
    "\n",
    "# import the libraries\n",
    "import tensorflow as tf\n",
    "from tensorflow import keras\n",
    "import numpy as np\n",
    "import matplotlib.pyplot as plt\n",
    "\n",
    "# Import the mnist handwritten dataset\n",
    "mnist = keras.datasets.mnist\n",
    "# Load and split the dataset\n",
    "(x_train, y_train), (x_test, y_test) = mnist.load_data()    #It is ndarray type, but not tensor type\n",
    "# Normalize the data\n",
    "x_train, x_test = x_train/255.0, x_test/255.0\n",
    "\n",
    "# Define the Model\n",
    "model = keras.models.Sequential([\n",
    "    keras.layers.Flatten(input_shape=(28,28)),\n",
    "    keras.layers.Dense(128, activation='relu'),\n",
    "    keras.layers.Dense(10),\n",
    "])\n",
    "\n",
    "# Loss and Optimizer\n",
    "loss = keras.losses.SparseCategoricalCrossentropy(from_logits=True)\n",
    "optim = keras.optimizers.Adam(lr=0.001)\n",
    "metrics = [\"accuracy\"]\n",
    "\n",
    "# Compile the model\n",
    "model.compile(loss=loss, optimizer=optim, metrics=metrics)\n",
    "\n",
    "# Train the Model\n",
    "batch_size = 64\n",
    "epochs = 10\n",
    "model.fit(x_train, y_train, batch_size=batch_size, epochs=epochs, shuffle=True, verbose=1)"
   ]
  },
  {
   "cell_type": "markdown",
   "metadata": {},
   "source": [
    "#### **Save and Load the Model**\n",
    "###### **Now we will save the model in three ways. The ways are- 1. Save the whole model 2. Save only weights and 3. Save only architecture as jason format. This saved model can be used further as we want to. We will then load the saved models.**"
   ]
  },
  {
   "cell_type": "markdown",
   "metadata": {},
   "source": [
    "##### **Save whole model:**\n",
    "###### **There are two possible ways of save the whole model. We can use the tensorflow SavedModel or HDF5 format. This depends on the endings that we use. For example if we use only a name \"saved_name\", it will autometically saved as tensorflow format or we can specify the format as \"save_model.h5\", it is the HDF5 format. Tensorflow recommended its own format, but the hdf5 format also work greatly. We will try both here.**"
   ]
  },
  {
   "cell_type": "code",
   "execution_count": 2,
   "metadata": {},
   "outputs": [
    {
     "name": "stdout",
     "output_type": "stream",
     "text": [
      "INFO:tensorflow:Assets written to: NN_Mnist\\assets\n"
     ]
    }
   ],
   "source": [
    "# Save as tensorflow format\n",
    "model.save(\"NN_Mnist\")\n",
    "# Save as hdf5 format\n",
    "model.save(\"NN_Mnist.h5\")"
   ]
  },
  {
   "cell_type": "markdown",
   "metadata": {},
   "source": [
    "**Load the Whole Saved Model**\n",
    "###### **For loading the saved model we will take the help of keras. Keras allowes us load the saved model as it allows to load its own saved model. We will use keras load_model modeule to load the saved models.**"
   ]
  },
  {
   "cell_type": "code",
   "execution_count": 5,
   "metadata": {},
   "outputs": [
    {
     "name": "stdout",
     "output_type": "stream",
     "text": [
      "Evaluate NN_Mnist.h5 Model:\n",
      "313/313 [==============================] - 1s 2ms/step - loss: 0.0759 - accuracy: 0.9780\n",
      "Evaluate NN_Mnist Model:\n",
      "313/313 [==============================] - 1s 3ms/step - loss: 0.0759 - accuracy: 0.9780\n"
     ]
    },
    {
     "data": {
      "text/plain": [
       "[0.07585792243480682, 0.9779999852180481]"
      ]
     },
     "execution_count": 5,
     "metadata": {},
     "output_type": "execute_result"
    }
   ],
   "source": [
    "# Load the saved h5 model\n",
    "saved_h5_model = keras.models.load_model(\"NN_Mnist.h5\")\n",
    "saved_keras_model = keras.models.load_model(\"NN_Mnist\")\n",
    "# Lets check the model by evaluating it\n",
    "print(\"Evaluate NN_Mnist.h5 Model:\")\n",
    "saved_h5_model.evaluate(x_test, y_test, verbose=1)\n",
    "print(\"Evaluate NN_Mnist Model:\")\n",
    "saved_keras_model.evaluate(x_test, y_test, verbose=1)"
   ]
  },
  {
   "cell_type": "markdown",
   "metadata": {},
   "source": [
    "##### **Save only Weights of the Model and Load the saved Model**"
   ]
  },
  {
   "cell_type": "code",
   "execution_count": 6,
   "metadata": {},
   "outputs": [],
   "source": [
    "# Save only weights of the model in tesrflow format\n",
    "model.save_weights(\"NN_Mnist_Weights\")\n",
    "# Save only weights of the model in hdf5 format\n",
    "model.save_weights(\"NN_Mnist_Weights.h5\")\n",
    "\n",
    "# Load the weights of the saved models: This basically initialize the actual model\n",
    "model.load_weights(\"NN_Mnist_Weights\")\n",
    "model.load_weights(\"NN_Mnist_Weights.h5\")"
   ]
  },
  {
   "cell_type": "markdown",
   "metadata": {},
   "source": [
    "##### **Save only Architecture of the Model and Load the saved Model**\n",
    "###### **Here, we can save the model as json string and can load the model for further use. We have to load the model as write or read mode as we open any json file.**"
   ]
  },
  {
   "cell_type": "code",
   "execution_count": 7,
   "metadata": {},
   "outputs": [
    {
     "name": "stdout",
     "output_type": "stream",
     "text": [
      "Model: \"sequential\"\n",
      "_________________________________________________________________\n",
      " Layer (type)                Output Shape              Param #   \n",
      "=================================================================\n",
      " flatten (Flatten)           (None, 784)               0         \n",
      "                                                                 \n",
      " dense (Dense)               (None, 128)               100480    \n",
      "                                                                 \n",
      " dense_1 (Dense)             (None, 10)                1290      \n",
      "                                                                 \n",
      "=================================================================\n",
      "Total params: 101,770\n",
      "Trainable params: 101,770\n",
      "Non-trainable params: 0\n",
      "_________________________________________________________________\n",
      "None\n"
     ]
    }
   ],
   "source": [
    "# Save only architecture to json\n",
    "json_string = model.to_json()\n",
    "\n",
    "# Open the json_string as write mode\n",
    "with open(\"nn_model\", \"w\") as f:\n",
    "    f.write(json_string)\n",
    "\n",
    "# Open the json_string as read mode\n",
    "with open(\"nn_model\", \"r\") as f:\n",
    "    loaded_json_string = f.read()\n",
    "\n",
    "# Set up the model\n",
    "new_model = keras.models.model_from_json(loaded_json_string)    # It only load the architecture\n",
    "print(new_model.summary())"
   ]
  }
 ],
 "metadata": {
  "kernelspec": {
   "display_name": "Python 3.9.5 64-bit",
   "language": "python",
   "name": "python3"
  },
  "language_info": {
   "codemirror_mode": {
    "name": "ipython",
    "version": 3
   },
   "file_extension": ".py",
   "mimetype": "text/x-python",
   "name": "python",
   "nbconvert_exporter": "python",
   "pygments_lexer": "ipython3",
   "version": "3.9.5"
  },
  "orig_nbformat": 4,
  "vscode": {
   "interpreter": {
    "hash": "24d7359adec4ffe2916680474ceb48a86338759ffb8252cd67d6683f84078a4b"
   }
  }
 },
 "nbformat": 4,
 "nbformat_minor": 2
}
