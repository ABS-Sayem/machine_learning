{
 "cells": [
  {
   "cell_type": "markdown",
   "metadata": {},
   "source": [
    "#### **Linear Regression**\n",
    "###### **In this tutorial we will deal with a regression problem and we will learn how to load the data, analyze the data and apply some pre-processing and apply a linear regression model(having only one layer). And further this tutorial we will extend this to a deep neural network. This will help us deep understanding of keras dense layer and activation functions.**"
   ]
  },
  {
   "cell_type": "markdown",
   "metadata": {},
   "source": [
    "#### **Let's Start**"
   ]
  },
  {
   "cell_type": "markdown",
   "metadata": {},
   "source": [
    "**Import Necessary Libraries**"
   ]
  },
  {
   "cell_type": "code",
   "execution_count": 1,
   "metadata": {},
   "outputs": [],
   "source": [
    "# To Silence Warnings\n",
    "import os\n",
    "os.environ['TF_CPP_MIN_LOG_LEVEL'] = '2'\n",
    "\n",
    "# Import Libraries\n",
    "import pandas as pd     # used to work with datasets, analyze and modify them\n",
    "import numpy as np\n",
    "import matplotlib.pyplot as plt\n",
    "import tensorflow as tf\n",
    "from tensorflow import keras\n",
    "from tensorflow.keras import layers\n",
    "from tensorflow.keras.layers.experimental import preprocessing\n",
    "\n",
    "# Make numpy printouts easier to read\n",
    "np.set_printoptions(precision=3, suppress=True)"
   ]
  },
  {
   "cell_type": "markdown",
   "metadata": {},
   "source": [
    "**Load Dataset**"
   ]
  },
  {
   "cell_type": "code",
   "execution_count": 2,
   "metadata": {},
   "outputs": [
    {
     "data": {
      "text/html": [
       "<div>\n",
       "<style scoped>\n",
       "    .dataframe tbody tr th:only-of-type {\n",
       "        vertical-align: middle;\n",
       "    }\n",
       "\n",
       "    .dataframe tbody tr th {\n",
       "        vertical-align: top;\n",
       "    }\n",
       "\n",
       "    .dataframe thead th {\n",
       "        text-align: right;\n",
       "    }\n",
       "</style>\n",
       "<table border=\"1\" class=\"dataframe\">\n",
       "  <thead>\n",
       "    <tr style=\"text-align: right;\">\n",
       "      <th></th>\n",
       "      <th>Std_Id</th>\n",
       "      <th>Attendance</th>\n",
       "      <th>Class_Test</th>\n",
       "      <th>Mid</th>\n",
       "      <th>Final</th>\n",
       "      <th>Type</th>\n",
       "    </tr>\n",
       "  </thead>\n",
       "  <tbody>\n",
       "    <tr>\n",
       "      <th>0</th>\n",
       "      <td>LR01</td>\n",
       "      <td>8</td>\n",
       "      <td>8</td>\n",
       "      <td>20</td>\n",
       "      <td>40</td>\n",
       "      <td>Regular</td>\n",
       "    </tr>\n",
       "    <tr>\n",
       "      <th>1</th>\n",
       "      <td>LR02</td>\n",
       "      <td>9</td>\n",
       "      <td>7</td>\n",
       "      <td>19</td>\n",
       "      <td>32</td>\n",
       "      <td>Re_Admit</td>\n",
       "    </tr>\n",
       "    <tr>\n",
       "      <th>2</th>\n",
       "      <td>LR03</td>\n",
       "      <td>9</td>\n",
       "      <td>9</td>\n",
       "      <td>26</td>\n",
       "      <td>27</td>\n",
       "      <td>Re_Admit</td>\n",
       "    </tr>\n",
       "    <tr>\n",
       "      <th>3</th>\n",
       "      <td>LR04</td>\n",
       "      <td>5</td>\n",
       "      <td>8</td>\n",
       "      <td>27</td>\n",
       "      <td>42</td>\n",
       "      <td>Regular</td>\n",
       "    </tr>\n",
       "    <tr>\n",
       "      <th>4</th>\n",
       "      <td>LR05</td>\n",
       "      <td>7</td>\n",
       "      <td>5</td>\n",
       "      <td>24</td>\n",
       "      <td>37</td>\n",
       "      <td>Regular</td>\n",
       "    </tr>\n",
       "    <tr>\n",
       "      <th>5</th>\n",
       "      <td>LR06</td>\n",
       "      <td>8</td>\n",
       "      <td>5</td>\n",
       "      <td>19</td>\n",
       "      <td>38</td>\n",
       "      <td>Regular</td>\n",
       "    </tr>\n",
       "    <tr>\n",
       "      <th>6</th>\n",
       "      <td>LR07</td>\n",
       "      <td>8</td>\n",
       "      <td>5</td>\n",
       "      <td>20</td>\n",
       "      <td>40</td>\n",
       "      <td>Regular</td>\n",
       "    </tr>\n",
       "    <tr>\n",
       "      <th>7</th>\n",
       "      <td>LR08</td>\n",
       "      <td>5</td>\n",
       "      <td>9</td>\n",
       "      <td>19</td>\n",
       "      <td>33</td>\n",
       "      <td>Regular</td>\n",
       "    </tr>\n",
       "    <tr>\n",
       "      <th>8</th>\n",
       "      <td>LR09</td>\n",
       "      <td>7</td>\n",
       "      <td>10</td>\n",
       "      <td>27</td>\n",
       "      <td>30</td>\n",
       "      <td>Regular</td>\n",
       "    </tr>\n",
       "    <tr>\n",
       "      <th>9</th>\n",
       "      <td>LR10</td>\n",
       "      <td>7</td>\n",
       "      <td>8</td>\n",
       "      <td>22</td>\n",
       "      <td>39</td>\n",
       "      <td>Regular</td>\n",
       "    </tr>\n",
       "  </tbody>\n",
       "</table>\n",
       "</div>"
      ],
      "text/plain": [
       "  Std_Id  Attendance  Class_Test  Mid  Final      Type\n",
       "0   LR01           8           8   20     40   Regular\n",
       "1   LR02           9           7   19     32  Re_Admit\n",
       "2   LR03           9           9   26     27  Re_Admit\n",
       "3   LR04           5           8   27     42   Regular\n",
       "4   LR05           7           5   24     37   Regular\n",
       "5   LR06           8           5   19     38   Regular\n",
       "6   LR07           8           5   20     40   Regular\n",
       "7   LR08           5           9   19     33   Regular\n",
       "8   LR09           7          10   27     30   Regular\n",
       "9   LR10           7           8   22     39   Regular"
      ]
     },
     "execution_count": 2,
     "metadata": {},
     "output_type": "execute_result"
    }
   ],
   "source": [
    "dataset = pd.read_csv('data.csv')\n",
    "dataset.head(10)"
   ]
  },
  {
   "cell_type": "markdown",
   "metadata": {},
   "source": [
    "**Clean Data**"
   ]
  },
  {
   "cell_type": "code",
   "execution_count": 3,
   "metadata": {},
   "outputs": [
    {
     "name": "stdout",
     "output_type": "stream",
     "text": [
      "   Std_Id  Attendance  Class_Test  Mid  Final  Regular  Re_Admit\n",
      "0    LR01           8           8   20     40        1         0\n",
      "1    LR02           9           7   19     32        0         1\n",
      "2    LR03           9           9   26     27        0         1\n",
      "3    LR04           5           8   27     42        1         0\n",
      "4    LR05           7           5   24     37        1         0\n",
      "..    ...         ...         ...  ...    ...      ...       ...\n",
      "95   LR96           8           5   19     40        1         0\n",
      "96   LR97           8           5   20     40        1         0\n",
      "97   LR98           5           9   19     33        1         0\n",
      "98   LR99           7          10   27     30        1         0\n",
      "99  LR100           7           8   22     39        1         0\n",
      "\n",
      "[100 rows x 7 columns]\n"
     ]
    }
   ],
   "source": [
    "# Drop the data with missing values. In our dataset there is no missing value, so we need not drop anything.\n",
    "#dataset = dataset.dropna()\n",
    "#dataset\n",
    "\n",
    "# Convert Categorical 'Type' data into one-hot data: In our dataset, all the data are numerical except Type data. So, to ignore confusion of our model we will one-hot encoding the type.\n",
    "dataset = pd.read_csv('data.csv')\n",
    "type = dataset.pop('Type')\n",
    "dataset['Regular'] = (type == 'Regular')*1\n",
    "dataset['Re_Admit'] = (type == 'Re_Admit')*1\n",
    "print(dataset)"
   ]
  },
  {
   "cell_type": "markdown",
   "metadata": {},
   "source": [
    "**Split Data into Train-Test**\n",
    "###### **We can do it by calling *sample* that includes what percentage we want to use for training. Remaining percentage automatically goes for testing, We just have to drop the training specified dataset.**\n",
    "###### **Before spliting data we have to remove the *Std_Id* column, because is a string type object and it can confuse the spliting process.**"
   ]
  },
  {
   "cell_type": "code",
   "execution_count": 4,
   "metadata": {},
   "outputs": [
    {
     "name": "stdout",
     "output_type": "stream",
     "text": [
      "    Attendance  Class_Test  Mid  Final  Regular  Re_Admit\n",
      "0            8           8   20     40        1         0\n",
      "1            9           7   19     32        0         1\n",
      "2            9           9   26     27        0         1\n",
      "3            5           8   27     42        1         0\n",
      "4            7           5   24     37        1         0\n",
      "..         ...         ...  ...    ...      ...       ...\n",
      "95           8           5   19     40        1         0\n",
      "96           8           5   20     40        1         0\n",
      "97           5           9   19     33        1         0\n",
      "98           7          10   27     30        1         0\n",
      "99           7           8   22     39        1         0\n",
      "\n",
      "[100 rows x 6 columns]\n"
     ]
    }
   ],
   "source": [
    "# Removing the \"Sd_Id\" column\n",
    "id = dataset.pop('Std_Id')\n",
    "print(dataset)"
   ]
  },
  {
   "cell_type": "code",
   "execution_count": 5,
   "metadata": {},
   "outputs": [
    {
     "name": "stdout",
     "output_type": "stream",
     "text": [
      "(100, 6) (80, 6) (20, 6)\n"
     ]
    },
    {
     "data": {
      "text/html": [
       "<div>\n",
       "<style scoped>\n",
       "    .dataframe tbody tr th:only-of-type {\n",
       "        vertical-align: middle;\n",
       "    }\n",
       "\n",
       "    .dataframe tbody tr th {\n",
       "        vertical-align: top;\n",
       "    }\n",
       "\n",
       "    .dataframe thead th {\n",
       "        text-align: right;\n",
       "    }\n",
       "</style>\n",
       "<table border=\"1\" class=\"dataframe\">\n",
       "  <thead>\n",
       "    <tr style=\"text-align: right;\">\n",
       "      <th></th>\n",
       "      <th>count</th>\n",
       "      <th>mean</th>\n",
       "      <th>std</th>\n",
       "      <th>min</th>\n",
       "      <th>25%</th>\n",
       "      <th>50%</th>\n",
       "      <th>75%</th>\n",
       "      <th>max</th>\n",
       "    </tr>\n",
       "  </thead>\n",
       "  <tbody>\n",
       "    <tr>\n",
       "      <th>Attendance</th>\n",
       "      <td>80.0</td>\n",
       "      <td>7.2000</td>\n",
       "      <td>1.335020</td>\n",
       "      <td>5.0</td>\n",
       "      <td>7.0</td>\n",
       "      <td>7.0</td>\n",
       "      <td>8.0</td>\n",
       "      <td>10.0</td>\n",
       "    </tr>\n",
       "    <tr>\n",
       "      <th>Class_Test</th>\n",
       "      <td>80.0</td>\n",
       "      <td>7.4625</td>\n",
       "      <td>1.749819</td>\n",
       "      <td>5.0</td>\n",
       "      <td>5.0</td>\n",
       "      <td>8.0</td>\n",
       "      <td>9.0</td>\n",
       "      <td>10.0</td>\n",
       "    </tr>\n",
       "    <tr>\n",
       "      <th>Mid</th>\n",
       "      <td>80.0</td>\n",
       "      <td>22.1625</td>\n",
       "      <td>3.183994</td>\n",
       "      <td>19.0</td>\n",
       "      <td>19.0</td>\n",
       "      <td>20.0</td>\n",
       "      <td>26.0</td>\n",
       "      <td>27.0</td>\n",
       "    </tr>\n",
       "    <tr>\n",
       "      <th>Final</th>\n",
       "      <td>80.0</td>\n",
       "      <td>35.8250</td>\n",
       "      <td>4.716722</td>\n",
       "      <td>27.0</td>\n",
       "      <td>32.0</td>\n",
       "      <td>37.0</td>\n",
       "      <td>40.0</td>\n",
       "      <td>44.0</td>\n",
       "    </tr>\n",
       "    <tr>\n",
       "      <th>Regular</th>\n",
       "      <td>80.0</td>\n",
       "      <td>0.9250</td>\n",
       "      <td>0.265053</td>\n",
       "      <td>0.0</td>\n",
       "      <td>1.0</td>\n",
       "      <td>1.0</td>\n",
       "      <td>1.0</td>\n",
       "      <td>1.0</td>\n",
       "    </tr>\n",
       "    <tr>\n",
       "      <th>Re_Admit</th>\n",
       "      <td>80.0</td>\n",
       "      <td>0.0750</td>\n",
       "      <td>0.265053</td>\n",
       "      <td>0.0</td>\n",
       "      <td>0.0</td>\n",
       "      <td>0.0</td>\n",
       "      <td>0.0</td>\n",
       "      <td>1.0</td>\n",
       "    </tr>\n",
       "  </tbody>\n",
       "</table>\n",
       "</div>"
      ],
      "text/plain": [
       "            count     mean       std   min   25%   50%   75%   max\n",
       "Attendance   80.0   7.2000  1.335020   5.0   7.0   7.0   8.0  10.0\n",
       "Class_Test   80.0   7.4625  1.749819   5.0   5.0   8.0   9.0  10.0\n",
       "Mid          80.0  22.1625  3.183994  19.0  19.0  20.0  26.0  27.0\n",
       "Final        80.0  35.8250  4.716722  27.0  32.0  37.0  40.0  44.0\n",
       "Regular      80.0   0.9250  0.265053   0.0   1.0   1.0   1.0   1.0\n",
       "Re_Admit     80.0   0.0750  0.265053   0.0   0.0   0.0   0.0   1.0"
      ]
     },
     "execution_count": 5,
     "metadata": {},
     "output_type": "execute_result"
    }
   ],
   "source": [
    "train_dataset = dataset.sample(frac=0.8, random_state=0)\n",
    "test_dataset = dataset.drop(train_dataset.index)\n",
    "\n",
    "print(dataset.shape, train_dataset.shape, test_dataset.shape)\n",
    "train_dataset.describe().transpose()"
   ]
  },
  {
   "cell_type": "markdown",
   "metadata": {},
   "source": [
    "###### **In our dataset, we have 10 entries and 7 different columns. From which 8 entries will be used for training and remaining 2 entries will be used for testing. And the dercribe function gives us some parameters that might be used to analyze the dataset.**"
   ]
  },
  {
   "cell_type": "markdown",
   "metadata": {},
   "source": [
    "**Split Features**\n",
    "###### **Here, we will split the features from the labels. From our dataset, we will predict *Final* marks so we copy the training and testing dataset as training and testing features and because Final is the label of both training and testing features we pop the *Final* label.**"
   ]
  },
  {
   "cell_type": "code",
   "execution_count": 6,
   "metadata": {},
   "outputs": [],
   "source": [
    "train_features = train_dataset.copy()\n",
    "test_features = test_dataset.copy()\n",
    "\n",
    "train_labels = train_features.pop('Final')\n",
    "test_labels = test_features.pop('Final')"
   ]
  },
  {
   "cell_type": "markdown",
   "metadata": {},
   "source": [
    "**Plot Features**\n",
    "###### **We will define a simple plot function and can use the function to plot any feature.**"
   ]
  },
  {
   "cell_type": "code",
   "execution_count": 7,
   "metadata": {},
   "outputs": [],
   "source": [
    "def plot(feature, x=None, y=None):\n",
    "    plt.figure(figsize=(10,5))\n",
    "    plt.scatter(train_features[feature], train_labels, label='Data')\n",
    "    if(x is not None and y is not None):\n",
    "        plt,plot(x, y, color='k', label='Prediction')\n",
    "    plt.xlabel(feature)\n",
    "    plt.ylabel('Final')\n",
    "    plt.legend()"
   ]
  },
  {
   "cell_type": "code",
   "execution_count": 8,
   "metadata": {},
   "outputs": [
    {
     "data": {
      "image/png": "[encoded data removed]",
      "text/plain": [
       "<Figure size 720x360 with 1 Axes>"
      ]
     },
     "metadata": {
      "needs_background": "light"
     },
     "output_type": "display_data"
    }
   ],
   "source": [
    "plot('Attendance')"
   ]
  },
  {
   "cell_type": "markdown",
   "metadata": {},
   "source": [
    "**Normalize**\n",
    "###### **If we see the description of the data, seen above in Split Data in Train-Test, we can see that the mean values have different ranges. If we take then as it is, it may confuge our model. The best way to overcome it is to normalize the data. For this, we can use a normalization layer from tensorflow preprocessing module.**"
   ]
  },
  {
   "cell_type": "code",
   "execution_count": 9,
   "metadata": {},
   "outputs": [
    {
     "name": "stdout",
     "output_type": "stream",
     "text": [
      "               mean       std\n",
      "Attendance   7.2000  1.335020\n",
      "Class_Test   7.4625  1.749819\n",
      "Mid         22.1625  3.183994\n",
      "Final       35.8250  4.716722\n",
      "Regular      0.9250  0.265053\n",
      "Re_Admit     0.0750  0.265053\n",
      "[[ 7.2    7.463 22.163  0.925  0.075]]\n"
     ]
    }
   ],
   "source": [
    "# First, see the data\n",
    "print(train_dataset.describe().transpose()[['mean', 'std']])\n",
    "\n",
    "# Normalization Layer\n",
    "normalizer = preprocessing.Normalization()  # This is a keras layer for sequential api.\n",
    "# Adapt to Data: To call the normalizer we have to adapt it to our data.\n",
    "# Because our dataset is a pandas dataset, we need to make it to a numpy array.\n",
    "normalizer.adapt(np.array(train_features))\n",
    "# Now, if we see the normalization value we see that it is exactly the mean value. Because we don't apply the normalization layer so far.\n",
    "print(normalizer.mean.numpy())"
   ]
  },
  {
   "cell_type": "markdown",
   "metadata": {},
   "source": [
    "###### **Let's check out the first training features to be normalized. When the normalize layer is called, it returns the input data with each feature independently normalized. It uses the formula- ((input-mean)/stddev).**"
   ]
  },
  {
   "cell_type": "code",
   "execution_count": 10,
   "metadata": {},
   "outputs": [
    {
     "name": "stdout",
     "output_type": "stream",
     "text": [
      "First Column: [[ 5  9 19  1  0]]\n",
      "Normalized: [[-1.658  0.884 -1.     0.285 -0.285]]\n"
     ]
    }
   ],
   "source": [
    "first = np.array(train_features[:1])\n",
    "# We will use the normalizer and casting the tensor into numpy array\n",
    "normalized_first = normalizer(first).numpy()\n",
    "print(\"First Column:\", first)\n",
    "print(\"Normalized:\", normalized_first)"
   ]
  },
  {
   "cell_type": "markdown",
   "metadata": {},
   "source": [
    "**Regression**\n",
    "###### **Now, we will use Linear Regression to predict final ccording to attendance/class_test/mid. For this, we have to normalize the input(attendance/class_test/mid). To predict the output(final) it will use a linear transformation function(y=mx+c) used in dense layer.**"
   ]
  },
  {
   "cell_type": "code",
   "execution_count": 13,
   "metadata": {},
   "outputs": [
    {
     "name": "stdout",
     "output_type": "stream",
     "text": [
      "(80, 5) (80, 5)\n"
     ]
    }
   ],
   "source": [
    "# Work with Single Feature: [Not working due to shape issue]\n",
    "# Use \"Attendance\" as input\n",
    "#feature = \"Attendance\"\n",
    "single_feature = np.array(train_features)\n",
    "print(single_feature.shape, train_features.shape)\n",
    "# Now, we have to normalize and adapt the frature\n",
    "# Normalization Layer\n",
    "single_feature_normalizer = preprocessing.Normalization()\n",
    "# Adapt to the data\n",
    "single_feature_normalizer.adapt(single_feature)"
   ]
  },
  {
   "cell_type": "markdown",
   "metadata": {},
   "source": [
    "**Sequential Model**"
   ]
  },
  {
   "cell_type": "code",
   "execution_count": 23,
   "metadata": {},
   "outputs": [],
   "source": [
    "# Sequential Model\n",
    "feature_model = keras.models.Sequential([\n",
    "    normalizer,\n",
    "    layers.Dense(units=1)   # Linear Model\n",
    "])"
   ]
  },
  {
   "cell_type": "code",
   "execution_count": 24,
   "metadata": {},
   "outputs": [
    {
     "name": "stdout",
     "output_type": "stream",
     "text": [
      "Model: \"sequential_1\"\n",
      "_________________________________________________________________\n",
      " Layer (type)                Output Shape              Param #   \n",
      "=================================================================\n",
      " normalization (Normalizatio  (None, 5)                11        \n",
      " n)                                                              \n",
      "                                                                 \n",
      " dense_1 (Dense)             (None, 1)                 6         \n",
      "                                                                 \n",
      "=================================================================\n",
      "Total params: 17\n",
      "Trainable params: 6\n",
      "Non-trainable params: 11\n",
      "_________________________________________________________________\n",
      "None\n"
     ]
    }
   ],
   "source": [
    "print(feature_model.summary())"
   ]
  },
  {
   "cell_type": "code",
   "execution_count": 25,
   "metadata": {},
   "outputs": [],
   "source": [
    "# Loss and Optimizer\n",
    "loss = keras.losses.MeanAbsoluteError()     # |y_p - y|. We can also use MeanSquareError: (y_p - p)^2\n",
    "optim = keras.optimizers.Adam(learning_rate=0.1)\n",
    "\n",
    "feature_model.compile(optimizer=optim, loss=loss)"
   ]
  },
  {
   "cell_type": "code",
   "execution_count": 26,
   "metadata": {},
   "outputs": [
    {
     "name": "stdout",
     "output_type": "stream",
     "text": [
      "Epoch 1/200\n",
      "2/2 [==============================] - 1s 180ms/step - loss: 35.9752 - val_loss: 34.9866\n",
      "Epoch 2/200\n",
      "2/2 [==============================] - 0s 34ms/step - loss: 35.7395 - val_loss: 34.8880\n",
      "Epoch 3/200\n",
      "2/2 [==============================] - 0s 47ms/step - loss: 35.5239 - val_loss: 34.7631\n",
      "Epoch 4/200\n",
      "2/2 [==============================] - 0s 48ms/step - loss: 35.2890 - val_loss: 34.6268\n",
      "Epoch 5/200\n",
      "2/2 [==============================] - 0s 49ms/step - loss: 35.0785 - val_loss: 34.4950\n",
      "Epoch 6/200\n",
      "2/2 [==============================] - 0s 53ms/step - loss: 34.8496 - val_loss: 34.3431\n",
      "Epoch 7/200\n",
      "2/2 [==============================] - 0s 52ms/step - loss: 34.6401 - val_loss: 34.1999\n",
      "Epoch 8/200\n",
      "2/2 [==============================] - 0s 44ms/step - loss: 34.4263 - val_loss: 34.0467\n",
      "Epoch 9/200\n",
      "2/2 [==============================] - 0s 42ms/step - loss: 34.2191 - val_loss: 33.9037\n",
      "Epoch 10/200\n",
      "2/2 [==============================] - 0s 50ms/step - loss: 34.0012 - val_loss: 33.7516\n",
      "Epoch 11/200\n",
      "2/2 [==============================] - 0s 47ms/step - loss: 33.7945 - val_loss: 33.6012\n",
      "Epoch 12/200\n",
      "2/2 [==============================] - 0s 52ms/step - loss: 33.5841 - val_loss: 33.4529\n",
      "Epoch 13/200\n",
      "2/2 [==============================] - 0s 50ms/step - loss: 33.3679 - val_loss: 33.3056\n",
      "Epoch 14/200\n",
      "2/2 [==============================] - 0s 45ms/step - loss: 33.1467 - val_loss: 33.1491\n",
      "Epoch 15/200\n",
      "2/2 [==============================] - 0s 40ms/step - loss: 32.9475 - val_loss: 33.0030\n",
      "Epoch 16/200\n",
      "2/2 [==============================] - 0s 51ms/step - loss: 32.7317 - val_loss: 32.8507\n",
      "Epoch 17/200\n",
      "2/2 [==============================] - 0s 45ms/step - loss: 32.5208 - val_loss: 32.7033\n",
      "Epoch 18/200\n",
      "2/2 [==============================] - 0s 42ms/step - loss: 32.3052 - val_loss: 32.5516\n",
      "Epoch 19/200\n",
      "2/2 [==============================] - 0s 41ms/step - loss: 32.1067 - val_loss: 32.4084\n",
      "Epoch 20/200\n",
      "2/2 [==============================] - ETA: 0s - loss: 32.19 - 0s 41ms/step - loss: 31.8822 - val_loss: 32.2580\n",
      "Epoch 21/200\n",
      "2/2 [==============================] - 0s 63ms/step - loss: 31.6612 - val_loss: 32.1009\n",
      "Epoch 22/200\n",
      "2/2 [==============================] - 0s 36ms/step - loss: 31.4608 - val_loss: 31.9530\n",
      "Epoch 23/200\n",
      "2/2 [==============================] - 0s 50ms/step - loss: 31.2429 - val_loss: 31.8018\n",
      "Epoch 24/200\n",
      "2/2 [==============================] - 0s 51ms/step - loss: 31.0350 - val_loss: 31.6548\n",
      "Epoch 25/200\n",
      "2/2 [==============================] - 0s 43ms/step - loss: 30.8173 - val_loss: 31.5018\n",
      "Epoch 26/200\n",
      "2/2 [==============================] - 0s 43ms/step - loss: 30.6042 - val_loss: 31.3512\n",
      "Epoch 27/200\n",
      "2/2 [==============================] - 0s 35ms/step - loss: 30.3935 - val_loss: 31.2008\n",
      "Epoch 28/200\n",
      "2/2 [==============================] - 0s 53ms/step - loss: 30.1878 - val_loss: 31.0547\n",
      "Epoch 29/200\n",
      "2/2 [==============================] - 0s 47ms/step - loss: 29.9619 - val_loss: 30.9001\n",
      "Epoch 30/200\n",
      "2/2 [==============================] - 0s 55ms/step - loss: 29.7588 - val_loss: 30.7517\n",
      "Epoch 31/200\n",
      "2/2 [==============================] - 0s 32ms/step - loss: 29.5451 - val_loss: 30.6028\n",
      "Epoch 32/200\n",
      "2/2 [==============================] - 0s 52ms/step - loss: 29.3262 - val_loss: 30.4497\n",
      "Epoch 33/200\n",
      "2/2 [==============================] - 0s 32ms/step - loss: 29.1252 - val_loss: 30.3044\n",
      "Epoch 34/200\n",
      "2/2 [==============================] - 0s 60ms/step - loss: 28.9063 - val_loss: 30.1533\n",
      "Epoch 35/200\n",
      "2/2 [==============================] - 0s 32ms/step - loss: 28.6944 - val_loss: 30.0055\n",
      "Epoch 36/200\n",
      "2/2 [==============================] - 0s 49ms/step - loss: 28.4727 - val_loss: 29.8511\n",
      "Epoch 37/200\n",
      "2/2 [==============================] - 0s 39ms/step - loss: 28.2626 - val_loss: 29.6983\n",
      "Epoch 38/200\n",
      "2/2 [==============================] - 0s 34ms/step - loss: 28.0567 - val_loss: 29.5468\n",
      "Epoch 39/200\n",
      "2/2 [==============================] - 0s 51ms/step - loss: 27.8478 - val_loss: 29.3974\n",
      "Epoch 40/200\n",
      "2/2 [==============================] - 0s 53ms/step - loss: 27.6338 - val_loss: 29.2512\n",
      "Epoch 41/200\n",
      "2/2 [==============================] - 0s 150ms/step - loss: 27.4196 - val_loss: 29.1016\n",
      "Epoch 42/200\n",
      "2/2 [==============================] - 0s 54ms/step - loss: 27.2021 - val_loss: 28.9485\n",
      "Epoch 43/200\n",
      "2/2 [==============================] - 0s 62ms/step - loss: 26.9914 - val_loss: 28.7994\n",
      "Epoch 44/200\n",
      "2/2 [==============================] - 0s 56ms/step - loss: 26.7836 - val_loss: 28.6528\n",
      "Epoch 45/200\n",
      "2/2 [==============================] - 0s 51ms/step - loss: 26.5711 - val_loss: 28.5048\n",
      "Epoch 46/200\n",
      "2/2 [==============================] - 0s 49ms/step - loss: 26.3664 - val_loss: 28.3617\n",
      "Epoch 47/200\n",
      "2/2 [==============================] - 0s 46ms/step - loss: 26.1400 - val_loss: 28.2096\n",
      "Epoch 48/200\n",
      "2/2 [==============================] - 0s 43ms/step - loss: 25.9259 - val_loss: 28.0583\n",
      "Epoch 49/200\n",
      "2/2 [==============================] - 0s 41ms/step - loss: 25.7253 - val_loss: 27.9123\n",
      "Epoch 50/200\n",
      "2/2 [==============================] - 0s 51ms/step - loss: 25.5010 - val_loss: 27.7610\n",
      "Epoch 51/200\n",
      "2/2 [==============================] - 0s 32ms/step - loss: 25.2925 - val_loss: 27.6103\n",
      "Epoch 52/200\n",
      "2/2 [==============================] - 0s 45ms/step - loss: 25.0827 - val_loss: 27.4625\n",
      "Epoch 53/200\n",
      "2/2 [==============================] - 0s 46ms/step - loss: 24.8622 - val_loss: 27.3088\n",
      "Epoch 54/200\n",
      "2/2 [==============================] - 0s 36ms/step - loss: 24.6517 - val_loss: 27.1578\n",
      "Epoch 55/200\n",
      "2/2 [==============================] - 0s 49ms/step - loss: 24.4394 - val_loss: 27.0083\n",
      "Epoch 56/200\n",
      "2/2 [==============================] - ETA: 0s - loss: 22.34 - 0s 48ms/step - loss: 24.2386 - val_loss: 26.8646\n",
      "Epoch 57/200\n",
      "2/2 [==============================] - 0s 44ms/step - loss: 24.0186 - val_loss: 26.7175\n",
      "Epoch 58/200\n",
      "2/2 [==============================] - 0s 37ms/step - loss: 23.8121 - val_loss: 26.5723\n",
      "Epoch 59/200\n",
      "2/2 [==============================] - 0s 46ms/step - loss: 23.5870 - val_loss: 26.4196\n",
      "Epoch 60/200\n",
      "2/2 [==============================] - 0s 47ms/step - loss: 23.3780 - val_loss: 26.2659\n",
      "Epoch 61/200\n",
      "2/2 [==============================] - 0s 54ms/step - loss: 23.1606 - val_loss: 26.1116\n",
      "Epoch 62/200\n",
      "2/2 [==============================] - 0s 52ms/step - loss: 22.9497 - val_loss: 25.9601\n",
      "Epoch 63/200\n",
      "2/2 [==============================] - 0s 50ms/step - loss: 22.7429 - val_loss: 25.8138\n",
      "Epoch 64/200\n",
      "2/2 [==============================] - 0s 41ms/step - loss: 22.5268 - val_loss: 25.6653\n",
      "Epoch 65/200\n",
      "2/2 [==============================] - 0s 45ms/step - loss: 22.3087 - val_loss: 25.5115\n",
      "Epoch 66/200\n",
      "2/2 [==============================] - 0s 42ms/step - loss: 22.1123 - val_loss: 25.3700\n",
      "Epoch 67/200\n",
      "2/2 [==============================] - 0s 45ms/step - loss: 21.8857 - val_loss: 25.2190\n",
      "Epoch 68/200\n",
      "2/2 [==============================] - 0s 42ms/step - loss: 21.6732 - val_loss: 25.0659\n",
      "Epoch 69/200\n",
      "2/2 [==============================] - 0s 32ms/step - loss: 21.4606 - val_loss: 24.9164\n",
      "Epoch 70/200\n",
      "2/2 [==============================] - 0s 42ms/step - loss: 21.2455 - val_loss: 24.7640\n",
      "Epoch 71/200\n",
      "2/2 [==============================] - 0s 47ms/step - loss: 21.0395 - val_loss: 24.6169\n",
      "Epoch 72/200\n",
      "2/2 [==============================] - 0s 47ms/step - loss: 20.8263 - val_loss: 24.4707\n",
      "Epoch 73/200\n",
      "2/2 [==============================] - 0s 48ms/step - loss: 20.6080 - val_loss: 24.3204\n",
      "Epoch 74/200\n",
      "2/2 [==============================] - 0s 41ms/step - loss: 20.3928 - val_loss: 24.1683\n",
      "Epoch 75/200\n",
      "2/2 [==============================] - 0s 37ms/step - loss: 20.1926 - val_loss: 24.0247\n",
      "Epoch 76/200\n",
      "2/2 [==============================] - ETA: 0s - loss: 19.24 - 0s 38ms/step - loss: 19.9759 - val_loss: 23.8799\n",
      "Epoch 77/200\n",
      "2/2 [==============================] - 0s 52ms/step - loss: 19.7629 - val_loss: 23.7358\n",
      "Epoch 78/200\n",
      "2/2 [==============================] - 0s 70ms/step - loss: 19.5448 - val_loss: 23.5868\n",
      "Epoch 79/200\n",
      "2/2 [==============================] - 0s 75ms/step - loss: 19.3333 - val_loss: 23.4312\n",
      "Epoch 80/200\n",
      "2/2 [==============================] - 0s 55ms/step - loss: 19.1382 - val_loss: 23.2828\n",
      "Epoch 81/200\n",
      "2/2 [==============================] - 0s 49ms/step - loss: 18.9395 - val_loss: 23.1293\n",
      "Epoch 82/200\n",
      "2/2 [==============================] - 0s 30ms/step - loss: 18.7357 - val_loss: 22.9718\n",
      "Epoch 83/200\n",
      "2/2 [==============================] - 0s 51ms/step - loss: 18.5396 - val_loss: 22.8146\n",
      "Epoch 84/200\n",
      "2/2 [==============================] - 0s 47ms/step - loss: 18.3493 - val_loss: 22.6632\n",
      "Epoch 85/200\n",
      "2/2 [==============================] - 0s 50ms/step - loss: 18.1404 - val_loss: 22.5016\n",
      "Epoch 86/200\n",
      "2/2 [==============================] - 0s 34ms/step - loss: 17.9501 - val_loss: 22.3454\n",
      "Epoch 87/200\n",
      "2/2 [==============================] - 0s 44ms/step - loss: 17.7588 - val_loss: 22.2089\n",
      "Epoch 88/200\n",
      "2/2 [==============================] - 0s 30ms/step - loss: 17.5536 - val_loss: 22.0879\n",
      "Epoch 89/200\n",
      "2/2 [==============================] - 0s 48ms/step - loss: 17.3596 - val_loss: 21.9664\n",
      "Epoch 90/200\n",
      "2/2 [==============================] - 0s 42ms/step - loss: 17.1654 - val_loss: 21.8484\n",
      "Epoch 91/200\n",
      "2/2 [==============================] - 0s 40ms/step - loss: 16.9776 - val_loss: 21.7259\n",
      "Epoch 92/200\n",
      "2/2 [==============================] - 0s 33ms/step - loss: 16.7924 - val_loss: 21.5950\n",
      "Epoch 93/200\n",
      "2/2 [==============================] - 0s 43ms/step - loss: 16.5996 - val_loss: 21.4459\n",
      "Epoch 94/200\n",
      "2/2 [==============================] - 0s 33ms/step - loss: 16.4226 - val_loss: 21.3041\n",
      "Epoch 95/200\n",
      "2/2 [==============================] - 0s 45ms/step - loss: 16.2310 - val_loss: 21.1506\n",
      "Epoch 96/200\n",
      "2/2 [==============================] - 0s 49ms/step - loss: 16.0477 - val_loss: 20.9869\n",
      "Epoch 97/200\n",
      "2/2 [==============================] - 0s 34ms/step - loss: 15.8688 - val_loss: 20.8229\n",
      "Epoch 98/200\n",
      "2/2 [==============================] - 0s 46ms/step - loss: 15.6851 - val_loss: 20.6442\n",
      "Epoch 99/200\n",
      "2/2 [==============================] - 0s 39ms/step - loss: 15.5057 - val_loss: 20.4696\n",
      "Epoch 100/200\n",
      "2/2 [==============================] - 0s 39ms/step - loss: 15.3305 - val_loss: 20.2903\n",
      "Epoch 101/200\n",
      "2/2 [==============================] - 0s 42ms/step - loss: 15.1518 - val_loss: 20.1052\n",
      "Epoch 102/200\n",
      "2/2 [==============================] - 0s 50ms/step - loss: 14.9576 - val_loss: 19.9141\n",
      "Epoch 103/200\n",
      "2/2 [==============================] - 0s 44ms/step - loss: 14.7817 - val_loss: 19.7317\n",
      "Epoch 104/200\n",
      "2/2 [==============================] - 0s 39ms/step - loss: 14.5836 - val_loss: 19.5471\n",
      "Epoch 105/200\n",
      "2/2 [==============================] - 0s 57ms/step - loss: 14.4014 - val_loss: 19.3491\n",
      "Epoch 106/200\n",
      "2/2 [==============================] - 0s 38ms/step - loss: 14.2254 - val_loss: 19.1531\n",
      "Epoch 107/200\n",
      "2/2 [==============================] - 0s 41ms/step - loss: 14.0488 - val_loss: 18.9635\n",
      "Epoch 108/200\n",
      "2/2 [==============================] - 0s 37ms/step - loss: 13.8537 - val_loss: 18.7773\n",
      "Epoch 109/200\n",
      "2/2 [==============================] - 0s 44ms/step - loss: 13.6620 - val_loss: 18.5907\n",
      "Epoch 110/200\n",
      "2/2 [==============================] - 0s 39ms/step - loss: 13.4859 - val_loss: 18.4042\n",
      "Epoch 111/200\n",
      "2/2 [==============================] - 0s 41ms/step - loss: 13.3063 - val_loss: 18.2213\n",
      "Epoch 112/200\n",
      "2/2 [==============================] - 0s 37ms/step - loss: 13.1155 - val_loss: 18.0545\n",
      "Epoch 113/200\n",
      "2/2 [==============================] - 0s 43ms/step - loss: 12.9410 - val_loss: 17.8887\n",
      "Epoch 114/200\n",
      "2/2 [==============================] - 0s 36ms/step - loss: 12.7608 - val_loss: 17.7166\n",
      "Epoch 115/200\n",
      "2/2 [==============================] - 0s 36ms/step - loss: 12.5717 - val_loss: 17.5516\n",
      "Epoch 116/200\n",
      "2/2 [==============================] - 0s 41ms/step - loss: 12.3992 - val_loss: 17.3805\n",
      "Epoch 117/200\n",
      "2/2 [==============================] - 0s 37ms/step - loss: 12.2196 - val_loss: 17.2036\n",
      "Epoch 118/200\n",
      "2/2 [==============================] - 0s 67ms/step - loss: 12.0644 - val_loss: 17.0219\n",
      "Epoch 119/200\n",
      "2/2 [==============================] - 0s 31ms/step - loss: 11.9056 - val_loss: 16.8398\n",
      "Epoch 120/200\n",
      "2/2 [==============================] - 0s 53ms/step - loss: 11.7521 - val_loss: 16.6552\n",
      "Epoch 121/200\n",
      "2/2 [==============================] - 0s 44ms/step - loss: 11.6043 - val_loss: 16.4685\n",
      "Epoch 122/200\n",
      "2/2 [==============================] - 0s 34ms/step - loss: 11.4454 - val_loss: 16.2778\n",
      "Epoch 123/200\n",
      "2/2 [==============================] - 0s 46ms/step - loss: 11.2924 - val_loss: 16.0680\n",
      "Epoch 124/200\n",
      "2/2 [==============================] - 0s 46ms/step - loss: 11.1390 - val_loss: 15.8697\n",
      "Epoch 125/200\n",
      "2/2 [==============================] - 0s 44ms/step - loss: 10.9903 - val_loss: 15.6540\n",
      "Epoch 126/200\n",
      "2/2 [==============================] - 0s 34ms/step - loss: 10.8388 - val_loss: 15.4480\n",
      "Epoch 127/200\n",
      "2/2 [==============================] - 0s 45ms/step - loss: 10.6815 - val_loss: 15.2476\n",
      "Epoch 128/200\n",
      "2/2 [==============================] - 0s 40ms/step - loss: 10.5285 - val_loss: 15.0844\n",
      "Epoch 129/200\n",
      "2/2 [==============================] - 0s 46ms/step - loss: 10.3638 - val_loss: 14.9182\n",
      "Epoch 130/200\n",
      "2/2 [==============================] - 0s 36ms/step - loss: 10.2133 - val_loss: 14.7389\n",
      "Epoch 131/200\n",
      "2/2 [==============================] - 0s 44ms/step - loss: 10.0731 - val_loss: 14.5599\n",
      "Epoch 132/200\n",
      "2/2 [==============================] - 0s 37ms/step - loss: 9.9394 - val_loss: 14.3707\n",
      "Epoch 133/200\n",
      "2/2 [==============================] - 0s 36ms/step - loss: 9.7909 - val_loss: 14.1909\n",
      "Epoch 134/200\n",
      "2/2 [==============================] - 0s 38ms/step - loss: 9.6527 - val_loss: 13.9967\n",
      "Epoch 135/200\n",
      "2/2 [==============================] - 0s 45ms/step - loss: 9.5107 - val_loss: 13.8013\n",
      "Epoch 136/200\n",
      "2/2 [==============================] - 0s 49ms/step - loss: 9.3770 - val_loss: 13.6098\n",
      "Epoch 137/200\n",
      "2/2 [==============================] - 0s 43ms/step - loss: 9.2378 - val_loss: 13.4150\n",
      "Epoch 138/200\n",
      "2/2 [==============================] - 0s 30ms/step - loss: 9.1132 - val_loss: 13.2284\n",
      "Epoch 139/200\n",
      "2/2 [==============================] - 0s 46ms/step - loss: 8.9861 - val_loss: 13.0526\n",
      "Epoch 140/200\n",
      "2/2 [==============================] - 0s 35ms/step - loss: 8.8620 - val_loss: 12.8919\n",
      "Epoch 141/200\n",
      "2/2 [==============================] - 0s 42ms/step - loss: 8.7340 - val_loss: 12.7290\n",
      "Epoch 142/200\n",
      "2/2 [==============================] - 0s 31ms/step - loss: 8.6013 - val_loss: 12.5644\n",
      "Epoch 143/200\n",
      "2/2 [==============================] - 0s 45ms/step - loss: 8.4760 - val_loss: 12.4026\n",
      "Epoch 144/200\n",
      "2/2 [==============================] - 0s 37ms/step - loss: 8.3428 - val_loss: 12.2508\n",
      "Epoch 145/200\n",
      "2/2 [==============================] - 0s 39ms/step - loss: 8.2177 - val_loss: 12.0897\n",
      "Epoch 146/200\n",
      "2/2 [==============================] - 0s 38ms/step - loss: 8.1029 - val_loss: 11.9320\n",
      "Epoch 147/200\n",
      "2/2 [==============================] - 0s 47ms/step - loss: 7.9628 - val_loss: 11.7749\n",
      "Epoch 148/200\n",
      "2/2 [==============================] - 0s 41ms/step - loss: 7.8540 - val_loss: 11.6256\n",
      "Epoch 149/200\n",
      "2/2 [==============================] - 0s 64ms/step - loss: 7.7389 - val_loss: 11.4620\n",
      "Epoch 150/200\n",
      "2/2 [==============================] - 0s 49ms/step - loss: 7.6111 - val_loss: 11.3018\n",
      "Epoch 151/200\n",
      "2/2 [==============================] - 0s 41ms/step - loss: 7.4960 - val_loss: 11.1490\n",
      "Epoch 152/200\n",
      "2/2 [==============================] - 0s 35ms/step - loss: 7.3993 - val_loss: 11.0071\n",
      "Epoch 153/200\n",
      "2/2 [==============================] - 0s 51ms/step - loss: 7.2901 - val_loss: 10.8734\n",
      "Epoch 154/200\n",
      "2/2 [==============================] - 0s 31ms/step - loss: 7.1900 - val_loss: 10.7237\n",
      "Epoch 155/200\n",
      "2/2 [==============================] - 0s 51ms/step - loss: 7.0790 - val_loss: 10.5892\n",
      "Epoch 156/200\n",
      "2/2 [==============================] - 0s 32ms/step - loss: 6.9831 - val_loss: 10.4542\n",
      "Epoch 157/200\n",
      "2/2 [==============================] - 0s 51ms/step - loss: 6.8758 - val_loss: 10.3323\n",
      "Epoch 158/200\n",
      "2/2 [==============================] - 0s 45ms/step - loss: 6.7847 - val_loss: 10.2075\n",
      "Epoch 159/200\n",
      "2/2 [==============================] - 0s 50ms/step - loss: 6.6885 - val_loss: 10.0984\n",
      "Epoch 160/200\n",
      "2/2 [==============================] - 0s 134ms/step - loss: 6.5919 - val_loss: 9.9907\n",
      "Epoch 161/200\n",
      "2/2 [==============================] - 0s 48ms/step - loss: 6.4711 - val_loss: 9.8862\n",
      "Epoch 162/200\n",
      "2/2 [==============================] - 0s 52ms/step - loss: 6.3766 - val_loss: 9.7607\n",
      "Epoch 163/200\n",
      "2/2 [==============================] - 0s 46ms/step - loss: 6.3015 - val_loss: 9.6302\n",
      "Epoch 164/200\n",
      "2/2 [==============================] - 0s 40ms/step - loss: 6.2169 - val_loss: 9.4655\n",
      "Epoch 165/200\n",
      "2/2 [==============================] - 0s 39ms/step - loss: 6.1356 - val_loss: 9.2957\n",
      "Epoch 166/200\n",
      "2/2 [==============================] - 0s 43ms/step - loss: 6.0529 - val_loss: 9.1202\n",
      "Epoch 167/200\n",
      "2/2 [==============================] - ETA: 0s - loss: 4.648 - 0s 34ms/step - loss: 5.9630 - val_loss: 8.9383\n",
      "Epoch 168/200\n",
      "2/2 [==============================] - 0s 39ms/step - loss: 5.8782 - val_loss: 8.7586\n",
      "Epoch 169/200\n",
      "2/2 [==============================] - 0s 40ms/step - loss: 5.8022 - val_loss: 8.5778\n",
      "Epoch 170/200\n",
      "2/2 [==============================] - 0s 35ms/step - loss: 5.7085 - val_loss: 8.4044\n",
      "Epoch 171/200\n",
      "2/2 [==============================] - 0s 41ms/step - loss: 5.6302 - val_loss: 8.2333\n",
      "Epoch 172/200\n",
      "2/2 [==============================] - 0s 46ms/step - loss: 5.5326 - val_loss: 8.0778\n",
      "Epoch 173/200\n",
      "2/2 [==============================] - 0s 79ms/step - loss: 5.4813 - val_loss: 7.9074\n",
      "Epoch 174/200\n",
      "2/2 [==============================] - 0s 45ms/step - loss: 5.3956 - val_loss: 7.7434\n",
      "Epoch 175/200\n",
      "2/2 [==============================] - 0s 36ms/step - loss: 5.3087 - val_loss: 7.5868\n",
      "Epoch 176/200\n",
      "2/2 [==============================] - 0s 41ms/step - loss: 5.2135 - val_loss: 7.4314\n",
      "Epoch 177/200\n",
      "2/2 [==============================] - 0s 40ms/step - loss: 5.1268 - val_loss: 7.2699\n",
      "Epoch 178/200\n",
      "2/2 [==============================] - 0s 33ms/step - loss: 5.0532 - val_loss: 7.0929\n",
      "Epoch 179/200\n",
      "2/2 [==============================] - 0s 44ms/step - loss: 4.9698 - val_loss: 6.9214\n",
      "Epoch 180/200\n",
      "2/2 [==============================] - 0s 100ms/step - loss: 4.8868 - val_loss: 6.7429\n",
      "Epoch 181/200\n",
      "2/2 [==============================] - 0s 64ms/step - loss: 4.7857 - val_loss: 6.5772\n",
      "Epoch 182/200\n",
      "2/2 [==============================] - 0s 33ms/step - loss: 4.7113 - val_loss: 6.4207\n",
      "Epoch 183/200\n",
      "2/2 [==============================] - 0s 51ms/step - loss: 4.6272 - val_loss: 6.2616\n",
      "Epoch 184/200\n",
      "2/2 [==============================] - 0s 46ms/step - loss: 4.5552 - val_loss: 6.0957\n",
      "Epoch 185/200\n",
      "2/2 [==============================] - 0s 38ms/step - loss: 4.4604 - val_loss: 5.9239\n",
      "Epoch 186/200\n",
      "2/2 [==============================] - 0s 43ms/step - loss: 4.3752 - val_loss: 5.7678\n",
      "Epoch 187/200\n",
      "2/2 [==============================] - 0s 34ms/step - loss: 4.3022 - val_loss: 5.5971\n",
      "Epoch 188/200\n",
      "2/2 [==============================] - 0s 45ms/step - loss: 4.2084 - val_loss: 5.4331\n",
      "Epoch 189/200\n",
      "2/2 [==============================] - ETA: 0s - loss: 4.121 - 0s 33ms/step - loss: 4.1240 - val_loss: 5.2675\n",
      "Epoch 190/200\n",
      "2/2 [==============================] - 0s 53ms/step - loss: 4.0320 - val_loss: 5.1057\n",
      "Epoch 191/200\n",
      "2/2 [==============================] - 0s 40ms/step - loss: 3.9568 - val_loss: 4.9347\n",
      "Epoch 192/200\n",
      "2/2 [==============================] - 0s 59ms/step - loss: 3.8851 - val_loss: 4.7617\n",
      "Epoch 193/200\n",
      "2/2 [==============================] - 0s 48ms/step - loss: 3.7908 - val_loss: 4.7592\n",
      "Epoch 194/200\n",
      "2/2 [==============================] - 0s 36ms/step - loss: 3.7402 - val_loss: 4.7337\n",
      "Epoch 195/200\n",
      "2/2 [==============================] - 0s 39ms/step - loss: 3.7450 - val_loss: 4.6854\n",
      "Epoch 196/200\n",
      "2/2 [==============================] - 0s 40ms/step - loss: 3.7170 - val_loss: 4.6282\n",
      "Epoch 197/200\n",
      "2/2 [==============================] - 0s 35ms/step - loss: 3.6880 - val_loss: 4.5629\n",
      "Epoch 198/200\n",
      "2/2 [==============================] - ETA: 0s - loss: 3.510 - 0s 43ms/step - loss: 3.6668 - val_loss: 4.5055\n",
      "Epoch 199/200\n",
      "2/2 [==============================] - 0s 35ms/step - loss: 3.6364 - val_loss: 4.4377\n",
      "Epoch 200/200\n",
      "2/2 [==============================] - 0s 48ms/step - loss: 3.6060 - val_loss: 4.3897\n"
     ]
    }
   ],
   "source": [
    "# Fit the model to Data\n",
    "history = feature_model.fit(\n",
    "    train_features, train_labels,\n",
    "    epochs=200,\n",
    "    verbose=1,\n",
    "    # Use 20% of data for validation\n",
    "    validation_split=0.2\n",
    ")"
   ]
  },
  {
   "cell_type": "markdown",
   "metadata": {},
   "source": [
    "**Plot the History**"
   ]
  },
  {
   "cell_type": "code",
   "execution_count": 27,
   "metadata": {},
   "outputs": [
    {
     "data": {
      "image/png": "[encoded data removed]",
      "text/plain": [
       "<Figure size 432x288 with 1 Axes>"
      ]
     },
     "metadata": {
      "needs_background": "light"
     },
     "output_type": "display_data"
    }
   ],
   "source": [
    "def plot_loss(history):\n",
    "    plt.plot(history.history['loss'], label='loss')\n",
    "    plt.plot(history.history['val_loss'], label='val_loss')\n",
    "    plt.ylim([0,25])\n",
    "    plt.xlabel('Epoch')\n",
    "    plt.ylabel('Error[Final]')\n",
    "    plt.legend()\n",
    "    plt.grid(True)\n",
    "plot_loss(history)"
   ]
  },
  {
   "cell_type": "markdown",
   "metadata": {},
   "source": [
    "**Evaluate the Model**"
   ]
  },
  {
   "cell_type": "code",
   "execution_count": 28,
   "metadata": {},
   "outputs": [
    {
     "name": "stdout",
     "output_type": "stream",
     "text": [
      "1/1 [==============================] - 0s 29ms/step - loss: 5.2127\n"
     ]
    },
    {
     "data": {
      "text/plain": [
       "5.212676048278809"
      ]
     },
     "execution_count": 28,
     "metadata": {},
     "output_type": "execute_result"
    }
   ],
   "source": [
    "feature_model.evaluate(\n",
    "    test_features, test_labels,\n",
    "    verbose=1\n",
    ")"
   ]
  },
  {
   "cell_type": "markdown",
   "metadata": {},
   "source": [
    "**Predict**"
   ]
  },
  {
   "cell_type": "code",
   "execution_count": 30,
   "metadata": {},
   "outputs": [
    {
     "ename": "ValueError",
     "evalue": "x and y must be the same size",
     "output_type": "error",
     "traceback": [
      "\u001b[1;31m---------------------------------------------------------------------------\u001b[0m",
      "\u001b[1;31mValueError\u001b[0m                                Traceback (most recent call last)",
      "\u001b[1;32m~\\AppData\\Local\\Temp/ipykernel_10888/3599482806.py\u001b[0m in \u001b[0;36m<module>\u001b[1;34m\u001b[0m\n\u001b[0;32m      4\u001b[0m \u001b[0my\u001b[0m \u001b[1;33m=\u001b[0m \u001b[0mfeature_model\u001b[0m\u001b[1;33m.\u001b[0m\u001b[0mpredict\u001b[0m\u001b[1;33m(\u001b[0m\u001b[0mx\u001b[0m\u001b[1;33m)\u001b[0m\u001b[1;33m\u001b[0m\u001b[1;33m\u001b[0m\u001b[0m\n\u001b[0;32m      5\u001b[0m \u001b[1;33m\u001b[0m\u001b[0m\n\u001b[1;32m----> 6\u001b[1;33m \u001b[0mplot\u001b[0m\u001b[1;33m(\u001b[0m\u001b[0mtest_features\u001b[0m\u001b[1;33m,\u001b[0m \u001b[0mx\u001b[0m\u001b[1;33m,\u001b[0m\u001b[0my\u001b[0m\u001b[1;33m)\u001b[0m\u001b[1;33m\u001b[0m\u001b[1;33m\u001b[0m\u001b[0m\n\u001b[0m",
      "\u001b[1;32m~\\AppData\\Local\\Temp/ipykernel_10888/3143107193.py\u001b[0m in \u001b[0;36mplot\u001b[1;34m(feature, x, y)\u001b[0m\n\u001b[0;32m      1\u001b[0m \u001b[1;32mdef\u001b[0m \u001b[0mplot\u001b[0m\u001b[1;33m(\u001b[0m\u001b[0mfeature\u001b[0m\u001b[1;33m,\u001b[0m \u001b[0mx\u001b[0m\u001b[1;33m=\u001b[0m\u001b[1;32mNone\u001b[0m\u001b[1;33m,\u001b[0m \u001b[0my\u001b[0m\u001b[1;33m=\u001b[0m\u001b[1;32mNone\u001b[0m\u001b[1;33m)\u001b[0m\u001b[1;33m:\u001b[0m\u001b[1;33m\u001b[0m\u001b[1;33m\u001b[0m\u001b[0m\n\u001b[0;32m      2\u001b[0m     \u001b[0mplt\u001b[0m\u001b[1;33m.\u001b[0m\u001b[0mfigure\u001b[0m\u001b[1;33m(\u001b[0m\u001b[0mfigsize\u001b[0m\u001b[1;33m=\u001b[0m\u001b[1;33m(\u001b[0m\u001b[1;36m10\u001b[0m\u001b[1;33m,\u001b[0m\u001b[1;36m5\u001b[0m\u001b[1;33m)\u001b[0m\u001b[1;33m)\u001b[0m\u001b[1;33m\u001b[0m\u001b[1;33m\u001b[0m\u001b[0m\n\u001b[1;32m----> 3\u001b[1;33m     \u001b[0mplt\u001b[0m\u001b[1;33m.\u001b[0m\u001b[0mscatter\u001b[0m\u001b[1;33m(\u001b[0m\u001b[0mtrain_features\u001b[0m\u001b[1;33m[\u001b[0m\u001b[0mfeature\u001b[0m\u001b[1;33m]\u001b[0m\u001b[1;33m,\u001b[0m \u001b[0mtrain_labels\u001b[0m\u001b[1;33m,\u001b[0m \u001b[0mlabel\u001b[0m\u001b[1;33m=\u001b[0m\u001b[1;34m'Data'\u001b[0m\u001b[1;33m)\u001b[0m\u001b[1;33m\u001b[0m\u001b[1;33m\u001b[0m\u001b[0m\n\u001b[0m\u001b[0;32m      4\u001b[0m     \u001b[1;32mif\u001b[0m\u001b[1;33m(\u001b[0m\u001b[0mx\u001b[0m \u001b[1;32mis\u001b[0m \u001b[1;32mnot\u001b[0m \u001b[1;32mNone\u001b[0m \u001b[1;32mand\u001b[0m \u001b[0my\u001b[0m \u001b[1;32mis\u001b[0m \u001b[1;32mnot\u001b[0m \u001b[1;32mNone\u001b[0m\u001b[1;33m)\u001b[0m\u001b[1;33m:\u001b[0m\u001b[1;33m\u001b[0m\u001b[1;33m\u001b[0m\u001b[0m\n\u001b[0;32m      5\u001b[0m         \u001b[0mplt\u001b[0m\u001b[1;33m,\u001b[0m\u001b[0mplot\u001b[0m\u001b[1;33m(\u001b[0m\u001b[0mx\u001b[0m\u001b[1;33m,\u001b[0m \u001b[0my\u001b[0m\u001b[1;33m,\u001b[0m \u001b[0mcolor\u001b[0m\u001b[1;33m=\u001b[0m\u001b[1;34m'k'\u001b[0m\u001b[1;33m,\u001b[0m \u001b[0mlabel\u001b[0m\u001b[1;33m=\u001b[0m\u001b[1;34m'Prediction'\u001b[0m\u001b[1;33m)\u001b[0m\u001b[1;33m\u001b[0m\u001b[1;33m\u001b[0m\u001b[0m\n",
      "\u001b[1;32m~\\AppData\\Roaming\\Python\\Python39\\site-packages\\matplotlib\\pyplot.py\u001b[0m in \u001b[0;36mscatter\u001b[1;34m(x, y, s, c, marker, cmap, norm, vmin, vmax, alpha, linewidths, edgecolors, plotnonfinite, data, **kwargs)\u001b[0m\n\u001b[0;32m   2805\u001b[0m         \u001b[0mvmin\u001b[0m\u001b[1;33m=\u001b[0m\u001b[1;32mNone\u001b[0m\u001b[1;33m,\u001b[0m \u001b[0mvmax\u001b[0m\u001b[1;33m=\u001b[0m\u001b[1;32mNone\u001b[0m\u001b[1;33m,\u001b[0m \u001b[0malpha\u001b[0m\u001b[1;33m=\u001b[0m\u001b[1;32mNone\u001b[0m\u001b[1;33m,\u001b[0m \u001b[0mlinewidths\u001b[0m\u001b[1;33m=\u001b[0m\u001b[1;32mNone\u001b[0m\u001b[1;33m,\u001b[0m \u001b[1;33m*\u001b[0m\u001b[1;33m,\u001b[0m\u001b[1;33m\u001b[0m\u001b[1;33m\u001b[0m\u001b[0m\n\u001b[0;32m   2806\u001b[0m         edgecolors=None, plotnonfinite=False, data=None, **kwargs):\n\u001b[1;32m-> 2807\u001b[1;33m     __ret = gca().scatter(\n\u001b[0m\u001b[0;32m   2808\u001b[0m         \u001b[0mx\u001b[0m\u001b[1;33m,\u001b[0m \u001b[0my\u001b[0m\u001b[1;33m,\u001b[0m \u001b[0ms\u001b[0m\u001b[1;33m=\u001b[0m\u001b[0ms\u001b[0m\u001b[1;33m,\u001b[0m \u001b[0mc\u001b[0m\u001b[1;33m=\u001b[0m\u001b[0mc\u001b[0m\u001b[1;33m,\u001b[0m \u001b[0mmarker\u001b[0m\u001b[1;33m=\u001b[0m\u001b[0mmarker\u001b[0m\u001b[1;33m,\u001b[0m \u001b[0mcmap\u001b[0m\u001b[1;33m=\u001b[0m\u001b[0mcmap\u001b[0m\u001b[1;33m,\u001b[0m \u001b[0mnorm\u001b[0m\u001b[1;33m=\u001b[0m\u001b[0mnorm\u001b[0m\u001b[1;33m,\u001b[0m\u001b[1;33m\u001b[0m\u001b[1;33m\u001b[0m\u001b[0m\n\u001b[0;32m   2809\u001b[0m         \u001b[0mvmin\u001b[0m\u001b[1;33m=\u001b[0m\u001b[0mvmin\u001b[0m\u001b[1;33m,\u001b[0m \u001b[0mvmax\u001b[0m\u001b[1;33m=\u001b[0m\u001b[0mvmax\u001b[0m\u001b[1;33m,\u001b[0m \u001b[0malpha\u001b[0m\u001b[1;33m=\u001b[0m\u001b[0malpha\u001b[0m\u001b[1;33m,\u001b[0m \u001b[0mlinewidths\u001b[0m\u001b[1;33m=\u001b[0m\u001b[0mlinewidths\u001b[0m\u001b[1;33m,\u001b[0m\u001b[1;33m\u001b[0m\u001b[1;33m\u001b[0m\u001b[0m\n",
      "\u001b[1;32m~\\AppData\\Roaming\\Python\\Python39\\site-packages\\matplotlib\\__init__.py\u001b[0m in \u001b[0;36minner\u001b[1;34m(ax, data, *args, **kwargs)\u001b[0m\n\u001b[0;32m   1410\u001b[0m     \u001b[1;32mdef\u001b[0m \u001b[0minner\u001b[0m\u001b[1;33m(\u001b[0m\u001b[0max\u001b[0m\u001b[1;33m,\u001b[0m \u001b[1;33m*\u001b[0m\u001b[0margs\u001b[0m\u001b[1;33m,\u001b[0m \u001b[0mdata\u001b[0m\u001b[1;33m=\u001b[0m\u001b[1;32mNone\u001b[0m\u001b[1;33m,\u001b[0m \u001b[1;33m**\u001b[0m\u001b[0mkwargs\u001b[0m\u001b[1;33m)\u001b[0m\u001b[1;33m:\u001b[0m\u001b[1;33m\u001b[0m\u001b[1;33m\u001b[0m\u001b[0m\n\u001b[0;32m   1411\u001b[0m         \u001b[1;32mif\u001b[0m \u001b[0mdata\u001b[0m \u001b[1;32mis\u001b[0m \u001b[1;32mNone\u001b[0m\u001b[1;33m:\u001b[0m\u001b[1;33m\u001b[0m\u001b[1;33m\u001b[0m\u001b[0m\n\u001b[1;32m-> 1412\u001b[1;33m             \u001b[1;32mreturn\u001b[0m \u001b[0mfunc\u001b[0m\u001b[1;33m(\u001b[0m\u001b[0max\u001b[0m\u001b[1;33m,\u001b[0m \u001b[1;33m*\u001b[0m\u001b[0mmap\u001b[0m\u001b[1;33m(\u001b[0m\u001b[0msanitize_sequence\u001b[0m\u001b[1;33m,\u001b[0m \u001b[0margs\u001b[0m\u001b[1;33m)\u001b[0m\u001b[1;33m,\u001b[0m \u001b[1;33m**\u001b[0m\u001b[0mkwargs\u001b[0m\u001b[1;33m)\u001b[0m\u001b[1;33m\u001b[0m\u001b[1;33m\u001b[0m\u001b[0m\n\u001b[0m\u001b[0;32m   1413\u001b[0m \u001b[1;33m\u001b[0m\u001b[0m\n\u001b[0;32m   1414\u001b[0m         \u001b[0mbound\u001b[0m \u001b[1;33m=\u001b[0m \u001b[0mnew_sig\u001b[0m\u001b[1;33m.\u001b[0m\u001b[0mbind\u001b[0m\u001b[1;33m(\u001b[0m\u001b[0max\u001b[0m\u001b[1;33m,\u001b[0m \u001b[1;33m*\u001b[0m\u001b[0margs\u001b[0m\u001b[1;33m,\u001b[0m \u001b[1;33m**\u001b[0m\u001b[0mkwargs\u001b[0m\u001b[1;33m)\u001b[0m\u001b[1;33m\u001b[0m\u001b[1;33m\u001b[0m\u001b[0m\n",
      "\u001b[1;32m~\\AppData\\Roaming\\Python\\Python39\\site-packages\\matplotlib\\axes\\_axes.py\u001b[0m in \u001b[0;36mscatter\u001b[1;34m(self, x, y, s, c, marker, cmap, norm, vmin, vmax, alpha, linewidths, edgecolors, plotnonfinite, **kwargs)\u001b[0m\n\u001b[0;32m   4367\u001b[0m         \u001b[0my\u001b[0m \u001b[1;33m=\u001b[0m \u001b[0mnp\u001b[0m\u001b[1;33m.\u001b[0m\u001b[0mma\u001b[0m\u001b[1;33m.\u001b[0m\u001b[0mravel\u001b[0m\u001b[1;33m(\u001b[0m\u001b[0my\u001b[0m\u001b[1;33m)\u001b[0m\u001b[1;33m\u001b[0m\u001b[1;33m\u001b[0m\u001b[0m\n\u001b[0;32m   4368\u001b[0m         \u001b[1;32mif\u001b[0m \u001b[0mx\u001b[0m\u001b[1;33m.\u001b[0m\u001b[0msize\u001b[0m \u001b[1;33m!=\u001b[0m \u001b[0my\u001b[0m\u001b[1;33m.\u001b[0m\u001b[0msize\u001b[0m\u001b[1;33m:\u001b[0m\u001b[1;33m\u001b[0m\u001b[1;33m\u001b[0m\u001b[0m\n\u001b[1;32m-> 4369\u001b[1;33m             \u001b[1;32mraise\u001b[0m \u001b[0mValueError\u001b[0m\u001b[1;33m(\u001b[0m\u001b[1;34m\"x and y must be the same size\"\u001b[0m\u001b[1;33m)\u001b[0m\u001b[1;33m\u001b[0m\u001b[1;33m\u001b[0m\u001b[0m\n\u001b[0m\u001b[0;32m   4370\u001b[0m \u001b[1;33m\u001b[0m\u001b[0m\n\u001b[0;32m   4371\u001b[0m         \u001b[1;32mif\u001b[0m \u001b[0ms\u001b[0m \u001b[1;32mis\u001b[0m \u001b[1;32mNone\u001b[0m\u001b[1;33m:\u001b[0m\u001b[1;33m\u001b[0m\u001b[1;33m\u001b[0m\u001b[0m\n",
      "\u001b[1;31mValueError\u001b[0m: x and y must be the same size"
     ]
    },
    {
     "data": {
      "image/png": "[encoded data removed]",
      "text/plain": [
       "<Figure size 720x360 with 1 Axes>"
      ]
     },
     "metadata": {
      "needs_background": "light"
     },
     "output_type": "display_data"
    }
   ],
   "source": [
    "range_min = np.min(test_features)-10\n",
    "range_max = np.max(test_features)+10\n",
    "x = tf.linspace(range_min, range_max, 50)\n",
    "y = feature_model.predict(x)\n",
    "\n",
    "plot(test_features, x,y)"
   ]
  }
 ],
 "metadata": {
  "kernelspec": {
   "display_name": "Python 3.9.5 64-bit",
   "language": "python",
   "name": "python3"
  },
  "language_info": {
   "codemirror_mode": {
    "name": "ipython",
    "version": 3
   },
   "file_extension": ".py",
   "mimetype": "text/x-python",
   "name": "python",
   "nbconvert_exporter": "python",
   "pygments_lexer": "ipython3",
   "version": "3.9.5"
  },
  "orig_nbformat": 4,
  "vscode": {
   "interpreter": {
    "hash": "24d7359adec4ffe2916680474ceb48a86338759ffb8252cd67d6683f84078a4b"
   }
  }
 },
 "nbformat": 4,
 "nbformat_minor": 2
}
