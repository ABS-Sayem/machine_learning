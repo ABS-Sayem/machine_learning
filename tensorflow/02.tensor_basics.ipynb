{
 "cells": [
  {
   "cell_type": "markdown",
   "metadata": {},
   "source": [
    "### **What is Tensor**\n",
    "##### **Tensor is like a Numpy nD array. So you can represents anything in 1D, 2D, 3D or higher dimensions using tensor.**\n",
    "\n",
    "**Characteristics of Tensor:**\n",
    "   * works with nd-array\n",
    "   * GPU support\n",
    "   * Computational graph / Backpropagation\n",
    "   * Tensor is Immutable - means, you cannot change any tensor, but can create a new tensor"
   ]
  },
  {
   "cell_type": "markdown",
   "metadata": {},
   "source": [
    "### **Let's Start**"
   ]
  },
  {
   "cell_type": "markdown",
   "metadata": {},
   "source": [
    "##### **Create Tensor**"
   ]
  },
  {
   "cell_type": "code",
   "execution_count": 2,
   "metadata": {},
   "outputs": [
    {
     "name": "stdout",
     "output_type": "stream",
     "text": [
      "tf.Tensor(\n",
      "[[1.8326489 1.1087914 1.4324548]\n",
      " [1.7153082 1.3018728 1.7764101]\n",
      " [1.2971876 1.7202747 1.2832543]], shape=(3, 3), dtype=float32)\n"
     ]
    }
   ],
   "source": [
    "#Create a tensor\n",
    "import tensorflow as tf\n",
    "\n",
    "# create the tensor\n",
    "x0 = tf.constant(5)  # single scaler value- 5\n",
    "\n",
    "# We can also add shape and data type\n",
    "x1 = tf.constant(5, shape=(1,1), dtype=tf.float32)\n",
    "\n",
    "# Rank-1 Tensor: Create a 1D tensor\n",
    "x2 = tf.constant([1,2,3,4,5])\n",
    "x3 = tf.range(10)\n",
    "\n",
    "# Rank-2 Tensor: Create a 2D tensor\n",
    "x4 = tf.constant([[1,2,3],[4,5,6]])\n",
    "# Create a automatic tensor\n",
    "x5 = tf.ones((3,3))\n",
    "# Default data type is float. You can specify the datatype\n",
    "x6 = tf.ones((3,3), dtype=tf.int32)\n",
    "# Other automatic tensors\n",
    "x7 = tf.zeros(3,3)\n",
    "# Diagonal Metrics\n",
    "x8 = tf.eye(3)   #It takes only one parameter\n",
    "# Random values tensor\n",
    "x9 = tf.random.normal((3,3), mean=0, stddev=1)   #You have to identify mean and standard deviation with dimension\n",
    "# Uniform tensor: where you can specify the range of values\n",
    "#x10 = tf.random.uniform((3,3), minval=0, maxval=1)\n",
    "x10 = tf.random.uniform((3,3), minval=1, maxval=2)\n",
    "print(x10)"
   ]
  },
  {
   "cell_type": "markdown",
   "metadata": {},
   "source": [
    "##### **Cast Tensor**\n",
    "###### **Casting means- changing the data type**"
   ]
  },
  {
   "cell_type": "code",
   "execution_count": 3,
   "metadata": {},
   "outputs": [
    {
     "name": "stdout",
     "output_type": "stream",
     "text": [
      "tf.Tensor([0. 1. 2. 3. 4. 5. 6. 7. 8. 9.], shape=(10,), dtype=float32)\n"
     ]
    }
   ],
   "source": [
    "x0 = tf.range(10)   #By default it is int32 type\n",
    "x0 = tf.cast(x0, dtype=tf.float32)\n",
    "print(x0)"
   ]
  },
  {
   "cell_type": "markdown",
   "metadata": {},
   "source": [
    "##### **Operations on Tensor**"
   ]
  },
  {
   "cell_type": "markdown",
   "metadata": {},
   "source": [
    "**Elementwise Operation**"
   ]
  },
  {
   "cell_type": "code",
   "execution_count": 21,
   "metadata": {},
   "outputs": [
    {
     "name": "stdout",
     "output_type": "stream",
     "text": [
      "tf.Tensor([ 1  8 27], shape=(3,), dtype=int32)\n"
     ]
    }
   ],
   "source": [
    "x = tf.constant([1,2,3])\n",
    "y = tf.constant([4,5,6])\n",
    "\n",
    "# Addition\n",
    "#z = tf.add(x,y)\n",
    "z = x + y\n",
    "\n",
    "# Subtraction\n",
    "#z = tf.subtract(x,y)\n",
    "z = x - y\n",
    "\n",
    "# Multiplication\n",
    "#z = tf.multiply(x,y)\n",
    "z = x * y\n",
    "\n",
    "# Division\n",
    "z = tf.divide(x,y)\n",
    "#z = x / y\n",
    "\n",
    "# Dot Product\n",
    "# What dot do? It multiply elementwise and then add all the results of multiplication\n",
    "z = tf.tensordot(x, y, axes=1)   #You have to define axes here\n",
    "\n",
    "# Exponential Operation - kind of power operation\n",
    "z = x ** 3\n",
    "\n",
    "print(z)"
   ]
  },
  {
   "cell_type": "markdown",
   "metadata": {},
   "source": [
    "**Matrices Multiplication**"
   ]
  },
  {
   "cell_type": "code",
   "execution_count": 22,
   "metadata": {},
   "outputs": [
    {
     "name": "stdout",
     "output_type": "stream",
     "text": [
      "tf.Tensor(\n",
      "[[-0.4869185 -3.336775  -2.1208951 -1.4827483]\n",
      " [-3.0643272 -5.0712867  5.1564956 -1.6461035]], shape=(2, 4), dtype=float32)\n"
     ]
    }
   ],
   "source": [
    "# For matrices operation, the column number of the first tensor must match the row number of the second tensor\n",
    "x = tf.random.normal((2,3))\n",
    "y = tf.random.normal((3,4))\n",
    "\n",
    "#z = tf.matmul(x, y)\n",
    "z = x @ y\n",
    "\n",
    "print(z)"
   ]
  },
  {
   "cell_type": "markdown",
   "metadata": {},
   "source": [
    "**Slicing, Indexing**"
   ]
  },
  {
   "cell_type": "code",
   "execution_count": 37,
   "metadata": {},
   "outputs": [
    {
     "name": "stdout",
     "output_type": "stream",
     "text": [
      "tf.Tensor(\n",
      "[[1 2 3 4]\n",
      " [6 7 8 9]], shape=(2, 4), dtype=int32) \n",
      "\n",
      "tf.Tensor([1 2 3 4], shape=(4,), dtype=int32)\n",
      "tf.Tensor(1, shape=(), dtype=int32)\n",
      "tf.Tensor(3, shape=(), dtype=int32)\n",
      "tf.Tensor(4, shape=(), dtype=int32)\n",
      "tf.Tensor([1 6], shape=(2,), dtype=int32)\n",
      "tf.Tensor([1 2 3 4], shape=(4,), dtype=int32)\n",
      "tf.Tensor([2 3], shape=(2,), dtype=int32)\n",
      "tf.Tensor([8], shape=(1,), dtype=int32)\n",
      "tf.Tensor(2, shape=(), dtype=int32)\n"
     ]
    }
   ],
   "source": [
    "x = tf.constant([[1,2,3,4], [6,7,8,9]])\n",
    "print(x, \"\\n\")\n",
    "\n",
    "# Accessing the list    * Indexing starts from 0\n",
    "print(x[0])     # 1st row\n",
    "print(x[0][0])  # 1st row 1st element\n",
    "print(x[0][2])  # 1st row 3rd element\n",
    "print(x[0][-1]) # 1st row last element\n",
    "\n",
    "print(x[:, 0])      # 1st column of the tensor\n",
    "print(x[0, :])      # 1st row of the tensor\n",
    "print(x[0, 1:3])    # 1st row's 2nd and 3rd element. [1=Starting point and 3=Ending point]\n",
    "print(x[1, 2:3])    # 2nd row's 3rd element  [Ending point will be excluded]\n",
    "print(x[0, 1])      # 1st row 2nd element"
   ]
  },
  {
   "cell_type": "markdown",
   "metadata": {},
   "source": [
    "**Reshaping**"
   ]
  }
 ],
 "metadata": {
  "kernelspec": {
   "display_name": "Python 3.9.5 64-bit",
   "language": "python",
   "name": "python3"
  },
  "language_info": {
   "codemirror_mode": {
    "name": "ipython",
    "version": 3
   },
   "file_extension": ".py",
   "mimetype": "text/x-python",
   "name": "python",
   "nbconvert_exporter": "python",
   "pygments_lexer": "ipython3",
   "version": "3.9.5"
  },
  "orig_nbformat": 4,
  "vscode": {
   "interpreter": {
    "hash": "24d7359adec4ffe2916680474ceb48a86338759ffb8252cd67d6683f84078a4b"
   }
  }
 },
 "nbformat": 4,
 "nbformat_minor": 2
}
