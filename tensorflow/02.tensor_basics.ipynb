{
 "cells": [
  {
   "cell_type": "markdown",
   "metadata": {},
   "source": [
    "### **What is Tensor**\n",
    "##### **Tensor is like a Numpy nD array. So you can represents anything in 1D, 2D, 3D or higher dimensions using tensor.**\n",
    "\n",
    "**Characteristics of Tensor:**\n",
    "   * works with nd-array\n",
    "   * GPU support\n",
    "   * Computational graph / Backpropagation\n",
    "   * Tensor is Immutable - means, you cannot change any tensor, but can create a new tensor"
   ]
  },
  {
   "cell_type": "markdown",
   "metadata": {},
   "source": [
    "### **Let's Start**"
   ]
  },
  {
   "cell_type": "markdown",
   "metadata": {},
   "source": [
    "#### **Create Tensor**"
   ]
  },
  {
   "cell_type": "code",
   "execution_count": 15,
   "metadata": {},
   "outputs": [
    {
     "name": "stdout",
     "output_type": "stream",
     "text": [
      "tf.Tensor(\n",
      "[[1.3427515 1.652445  1.9550549]\n",
      " [1.646282  1.2395786 1.8771622]\n",
      " [1.8226774 1.3475649 1.0995827]], shape=(3, 3), dtype=float32)\n"
     ]
    }
   ],
   "source": [
    "#Create a tensor\n",
    "import tensorflow as tf\n",
    "\n",
    "# create the tensor\n",
    "x = tf.constant(5)  # single scaler value- 5\n",
    "\n",
    "# We can also add shape and data type\n",
    "x = tf.constant(5, shape=(1,1), dtype=tf.float32)\n",
    "\n",
    "# Rank-1 Tensor: Create a 1D tensor\n",
    "x = tf.constant([1,2,3,4,5])\n",
    "# Rank-2 Tensor: Create a 2D tensor\n",
    "x = tf.constant([[1,2,3],[4,5,6]])\n",
    "\n",
    "# Create a automatic tensor\n",
    "x = tf.ones((3,3))\n",
    "# Default data type is float. You can specify the datatype\n",
    "x = tf.ones((3,3), dtype=tf.int32)\n",
    "# Other automatic tensors\n",
    "x= tf.zeros(3,3)\n",
    "# Diagonal Metrics\n",
    "x = tf.eye(3)   #It takes only one parameter\n",
    "# Random values tensor\n",
    "x = tf.random.normal((3,3), mean=0, stddev=1)   #You have to identify mean and standard deviation with dimension\n",
    "# Uniform tensor: where you can specify the range of values\n",
    "#x = tf.random.uniform((3,3), minval=0, maxval=1)\n",
    "x = tf.random.uniform((3,3), minval=1, maxval=2)\n",
    "print(x)"
   ]
  }
 ],
 "metadata": {
  "kernelspec": {
   "display_name": "Python 3.9.5 64-bit",
   "language": "python",
   "name": "python3"
  },
  "language_info": {
   "codemirror_mode": {
    "name": "ipython",
    "version": 3
   },
   "file_extension": ".py",
   "mimetype": "text/x-python",
   "name": "python",
   "nbconvert_exporter": "python",
   "pygments_lexer": "ipython3",
   "version": "3.9.5"
  },
  "orig_nbformat": 4,
  "vscode": {
   "interpreter": {
    "hash": "24d7359adec4ffe2916680474ceb48a86338759ffb8252cd67d6683f84078a4b"
   }
  }
 },
 "nbformat": 4,
 "nbformat_minor": 2
}
