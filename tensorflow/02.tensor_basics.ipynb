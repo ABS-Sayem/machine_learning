{
 "cells": [
  {
   "cell_type": "markdown",
   "metadata": {},
   "source": [
    "### **Create Tensor**"
   ]
  },
  {
   "cell_type": "code",
   "execution_count": null,
   "metadata": {},
   "outputs": [],
   "source": [
    "# Characteristics of Tensor:\n",
    "#   > works with nd-array\n",
    "#   > GPU support\n",
    "#   > Computational graph / Backpropagation\n",
    "#   > Immutable - means, you cannot change any tensor, but can create a new tensor\n",
    "\n",
    "#Create a tensor\n",
    "import tensorflow as tf\n",
    "\n",
    "# create the tensor\n",
    "x = tf.constant(5)  # single scaler value- 5\n",
    "print(x)"
   ]
  }
 ],
 "metadata": {
  "language_info": {
   "name": "python"
  },
  "orig_nbformat": 4
 },
 "nbformat": 4,
 "nbformat_minor": 2
}
