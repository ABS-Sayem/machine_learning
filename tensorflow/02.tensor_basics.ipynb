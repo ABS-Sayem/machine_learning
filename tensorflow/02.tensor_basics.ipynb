{
 "cells": [
  {
   "cell_type": "markdown",
   "metadata": {},
   "source": [
    "### **What is Tensor**\n",
    "##### **Tensor is like a Numpy nD array. So you can represents anything in 1D, 2D, 3D or higher dimensions using tensor.**\n",
    "\n",
    "**Characteristics of Tensor:**\n",
    "   * works with nd-array\n",
    "   * GPU support\n",
    "   * Computational graph / Backpropagation\n",
    "   * Tensor is Immutable - means, you cannot change any tensor, but can create a new tensor"
   ]
  },
  {
   "cell_type": "markdown",
   "metadata": {},
   "source": [
    "### **Let's Start**"
   ]
  },
  {
   "cell_type": "markdown",
   "metadata": {},
   "source": [
    "#### **Create Tensor**"
   ]
  },
  {
   "cell_type": "code",
   "execution_count": 1,
   "metadata": {},
   "outputs": [
    {
     "name": "stdout",
     "output_type": "stream",
     "text": [
      "tf.Tensor(5, shape=(), dtype=int32)\n"
     ]
    }
   ],
   "source": [
    "#Create a tensor\n",
    "import tensorflow as tf\n",
    "\n",
    "# create the tensor\n",
    "x = tf.constant(5)  # single scaler value- 5\n",
    "print(x)"
   ]
  }
 ],
 "metadata": {
  "kernelspec": {
   "display_name": "Python 3.9.5 64-bit",
   "language": "python",
   "name": "python3"
  },
  "language_info": {
   "codemirror_mode": {
    "name": "ipython",
    "version": 3
   },
   "file_extension": ".py",
   "mimetype": "text/x-python",
   "name": "python",
   "nbconvert_exporter": "python",
   "pygments_lexer": "ipython3",
   "version": "3.9.5"
  },
  "orig_nbformat": 4,
  "vscode": {
   "interpreter": {
    "hash": "24d7359adec4ffe2916680474ceb48a86338759ffb8252cd67d6683f84078a4b"
   }
  }
 },
 "nbformat": 4,
 "nbformat_minor": 2
}
