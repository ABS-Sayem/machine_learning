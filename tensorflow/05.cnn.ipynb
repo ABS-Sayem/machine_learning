{
 "cells": [
  {
   "cell_type": "markdown",
   "metadata": {},
   "source": [
    "### **Convolutional Neural Network**\n",
    "###### **Convolutional Neural Network(CNN) is a secial type of neural network where it uses convolutional filters to extract features instead of just using a dense layer used in earlier example of linear regression.**\n",
    "\n",
    "**Basic Structure of CNN**\n",
    "**Input => ([Convolutional+Relu] => Pooling) + ...... => Flatten => [Dense+Softmax]**\n",
    ">                             {-----------Feature Learning----------} {-------Classification-----}\n",
    "\n",
    "> **Elements of a Convolutional Layer:**\n",
    "* Input Matrix\n",
    "* Convolutional Filters(3x3) + Activation Fn (Relu) # We can use different activation fn's (Sigmoid, Leaky Relu)\n",
    "* Pooling Layer (Maxpooling with 2x2 filter)    # We can use Minpooling also"
   ]
  }
 ],
 "metadata": {
  "language_info": {
   "name": "python"
  },
  "orig_nbformat": 4
 },
 "nbformat": 4,
 "nbformat_minor": 2
}
