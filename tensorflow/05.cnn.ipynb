{
 "cells": [
  {
   "cell_type": "markdown",
   "metadata": {},
   "source": [
    "### **Convolutional Neural Network**\n",
    "###### **Convolutional Neural Network(CNN) is a secial type of neural network where it uses convolutional filters to extract features instead of just using a dense layer used in earlier example of linear regression.**\n",
    "\n",
    "**Basic Structure of CNN**\n",
    "**Input => ([Convolutional+Relu] => Pooling) + ...... => Flatten => [Dense+Softmax]**\n",
    ">                             {-----------Feature Learning----------} {-------Classification-----}\n",
    "\n",
    "> **Elements of a Convolutional Layer:**\n",
    "* Input Matrix\n",
    "* Convolutional Filters(3x3) + Activation Fn (Relu) # We can use different activation fn's (Sigmoid, Leaky Relu)\n",
    "* Pooling Layer (Maxpooling with 2x2 filter)    # We can use Minpooling also"
   ]
  },
  {
   "cell_type": "markdown",
   "metadata": {},
   "source": [
    "### **Lets Start**\n",
    "###### **Here we will design a CNN model and fit the model to the CIFAR-10 Dataset to test our model efficiency. This project will teach us building CNN model and how to use it to a image dataset. This is a classification problem. Here we will classify 10 different classes using our CNN model.**"
   ]
  },
  {
   "cell_type": "markdown",
   "metadata": {},
   "source": [
    "#### **Data Engineering**"
   ]
  },
  {
   "cell_type": "markdown",
   "metadata": {},
   "source": [
    "**Dataset**\n",
    "###### **Here, we will use the CIFAR-10 dataset. It consists of 6000 32x32 color images in 10 different classes. There are 5000 training images and 1000 test images.**\n",
    "###### **The dataset is divided into five training batches and one test batch, each with exactly 1000 images. The test batch contains 1000 randomly selected images from each class. The training batches contains the remaining images in random order, but some training batches may contain more images from one class than another. Having classes name \"airplane\", \"automobile\", \"bird\", \"cat\", \"deer\", \"dog\", \"frog\", \"horse\", \"ship\" and \"\"truck\" are completely mutually exlusive. There is no overlap between automobiles and truck. For more about this dataset check \"https://www.cs.toronto.edu/~kriz/cifar.html\".**"
   ]
  }
 ],
 "metadata": {
  "language_info": {
   "name": "python"
  },
  "orig_nbformat": 4
 },
 "nbformat": 4,
 "nbformat_minor": 2
}
