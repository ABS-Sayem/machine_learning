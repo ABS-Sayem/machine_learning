{
 "cells": [
  {
   "cell_type": "markdown",
   "metadata": {},
   "source": [
    "#### Stock Price Prediction\n",
    "*Predicting the stock market has been the waste and goal of investors since its inception. Our goal is to predict the stock market using machine learning.*"
   ]
  },
  {
   "cell_type": "markdown",
   "metadata": {},
   "source": [
    "#### Lets Start\n",
    "*We will start by importing all the necessary libraries we need for the task.*"
   ]
  },
  {
   "cell_type": "code",
   "execution_count": 1,
   "metadata": {},
   "outputs": [],
   "source": [
    "import numpy as np\n",
    "import pandas as pd\n",
    "from sklearn import preprocessing\n",
    "from sklearn.model_selection import train_test_split\n",
    "from sklearn.linear_model import LinearRegression"
   ]
  },
  {
   "cell_type": "markdown",
   "metadata": {},
   "source": [
    "Data preprocessing\n",
    "\n",
    "*Now, we will define a function that will prepare the dataset to fit the model into the data.*"
   ]
  },
  {
   "cell_type": "code",
   "execution_count": null,
   "metadata": {},
   "outputs": [],
   "source": [
    "def prepare_data(df, forecast_col, forecast_out, test_size):\n",
    "    # Creating new column called label with the last 5 rows are nan\n",
    "    label = df[forecast_col].shift(-forecast_out)\n",
    "    # Creating the feature array\n",
    "    X = np.array(df[[forecast_col]])\n",
    "    # Processing the feature array\n",
    "    X = preprocessing.scale(X)\n",
    "    # Creating the column to use later in the predicting method\n",
    "    X_lately = X[-forecast_out:]\n",
    "    # X that will contain the training and testing\n",
    "    X = X[:-forecast_out]\n",
    "    # Dropping na values\n",
    "    label.dropna(inplace=True)\n",
    "    # Assign y\n",
    "    y = np.array(label)\n",
    "    # Cross validation\n",
    "    X_train, X_test, Y_train, Y_test = train_test_split(X, y, test_size=test_size, random_state=0)\n",
    "\n",
    "    response = [X_train, X_test, Y_train, Y_test, X_lately]\n",
    "    return(response)"
   ]
  }
 ],
 "metadata": {
  "interpreter": {
   "hash": "24d7359adec4ffe2916680474ceb48a86338759ffb8252cd67d6683f84078a4b"
  },
  "kernelspec": {
   "display_name": "Python 3.9.5 64-bit",
   "language": "python",
   "name": "python3"
  },
  "language_info": {
   "codemirror_mode": {
    "name": "ipython",
    "version": 3
   },
   "file_extension": ".py",
   "mimetype": "text/x-python",
   "name": "python",
   "nbconvert_exporter": "python",
   "pygments_lexer": "ipython3",
   "version": "3.9.5"
  },
  "orig_nbformat": 4
 },
 "nbformat": 4,
 "nbformat_minor": 2
}
