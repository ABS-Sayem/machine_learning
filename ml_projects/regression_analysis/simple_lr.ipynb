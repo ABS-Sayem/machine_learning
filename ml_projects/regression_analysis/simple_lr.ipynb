{
 "cells": [
  {
   "cell_type": "markdown",
   "metadata": {},
   "source": [
    "#### **Simple Linear Regression**\n",
    "* There will be an independent_variable and a dependent_variable.\n",
    "* ***Best suited when there is a linear relationship between the two variables.***\n",
    "##### **What we need for this analysis:**\n",
    "* `Dataset`: It will only have two variables- one is dependent and another is independent. In this case, we create a dataset namely `house_price.csv`, has an independent variable `area` and the dependent variable `price`. Price will be predicted on the basis of area.\n",
    "* `Linear Regression Model`: We will use `linear_model` from `sklearn`\n",
    "##### **Steps of the analysis:**\n",
    "* `Load the Dataset`: We will load the dataset from the sepific directory\n",
    "* `Set X and Y`: X = Independent variable and Y = Dependent variable\n",
    "* `Split Data into Train-Test`: Split data into- x_tarin, x_test, y_train, y_test\n",
    "* `Reshape Training Data`: Reshape the x_train and y_train to 2-Dimensional since ML models only work on 2D data and our dataset id 1-Dimensional.\n",
    "* `Fit Data to Model`: Fit the training data to model\n",
    "* `Test Model using Test Data`: Finally check the model's learning bu testing it using our test data.\n",
    "##### **How Linear Regression Model Works?**\n",
    "[Equation of Linear Line: `y = mx + c`]\n",
    "* In simple linear regression there is one training feature `x` and one label `y`. We have to find `m` and `c` and using these values we can then find `y` for any `x`.\n",
    "* **How to find `m` and `c`?** The model reads all the training data and finds the best fitted line. The `co-eficient` and `intercept` of the best fitted line is the `m` and `c` respectively."
   ]
  },
  {
   "cell_type": "markdown",
   "metadata": {},
   "source": [
    "#### **Lets Start**"
   ]
  },
  {
   "cell_type": "markdown",
   "metadata": {},
   "source": [
    "**Load the Dataset**: To analyze the linear regression we created a simple house_price dataset. The dataset has two fields:\n",
    "* `area`: in squire_feet\n",
    "* `price`: in thousand\n",
    "* here, `area` is the independent variable on which the dependent variable `price` is to be predicted."
   ]
  },
  {
   "cell_type": "code",
   "execution_count": 11,
   "metadata": {},
   "outputs": [],
   "source": [
    "import pandas as pd\n",
    "\n",
    "data1 = pd.read_csv('C:/Users/Abs_Sayem/Desktop/ML/machine_learning/ml_projects/dataset/house_price.csv', encoding='utf-8')\n",
    "data2 = pd.read_csv('C:/Users/Abs_Sayem/Desktop/ML/machine_learning/ml_projects/dataset/housing_data.csv', encoding='utf-8')"
   ]
  },
  {
   "cell_type": "code",
   "execution_count": 12,
   "metadata": {},
   "outputs": [
    {
     "data": {
      "text/html": [
       "<div>\n",
       "<style scoped>\n",
       "    .dataframe tbody tr th:only-of-type {\n",
       "        vertical-align: middle;\n",
       "    }\n",
       "\n",
       "    .dataframe tbody tr th {\n",
       "        vertical-align: top;\n",
       "    }\n",
       "\n",
       "    .dataframe thead th {\n",
       "        text-align: right;\n",
       "    }\n",
       "</style>\n",
       "<table border=\"1\" class=\"dataframe\">\n",
       "  <thead>\n",
       "    <tr style=\"text-align: right;\">\n",
       "      <th></th>\n",
       "      <th>area</th>\n",
       "      <th>price</th>\n",
       "    </tr>\n",
       "  </thead>\n",
       "  <tbody>\n",
       "    <tr>\n",
       "      <th>0</th>\n",
       "      <td>1600</td>\n",
       "      <td>1000</td>\n",
       "    </tr>\n",
       "    <tr>\n",
       "      <th>1</th>\n",
       "      <td>3200</td>\n",
       "      <td>2000</td>\n",
       "    </tr>\n",
       "    <tr>\n",
       "      <th>2</th>\n",
       "      <td>4800</td>\n",
       "      <td>3000</td>\n",
       "    </tr>\n",
       "    <tr>\n",
       "      <th>3</th>\n",
       "      <td>2400</td>\n",
       "      <td>1500</td>\n",
       "    </tr>\n",
       "    <tr>\n",
       "      <th>4</th>\n",
       "      <td>1200</td>\n",
       "      <td>800</td>\n",
       "    </tr>\n",
       "  </tbody>\n",
       "</table>\n",
       "</div>"
      ],
      "text/plain": [
       "   area  price\n",
       "0  1600   1000\n",
       "1  3200   2000\n",
       "2  4800   3000\n",
       "3  2400   1500\n",
       "4  1200    800"
      ]
     },
     "execution_count": 12,
     "metadata": {},
     "output_type": "execute_result"
    }
   ],
   "source": [
    "data1.head(5)"
   ]
  },
  {
   "cell_type": "code",
   "execution_count": 13,
   "metadata": {},
   "outputs": [
    {
     "data": {
      "text/html": [
       "<div>\n",
       "<style scoped>\n",
       "    .dataframe tbody tr th:only-of-type {\n",
       "        vertical-align: middle;\n",
       "    }\n",
       "\n",
       "    .dataframe tbody tr th {\n",
       "        vertical-align: top;\n",
       "    }\n",
       "\n",
       "    .dataframe thead th {\n",
       "        text-align: right;\n",
       "    }\n",
       "</style>\n",
       "<table border=\"1\" class=\"dataframe\">\n",
       "  <thead>\n",
       "    <tr style=\"text-align: right;\">\n",
       "      <th></th>\n",
       "      <th>id</th>\n",
       "      <th>date</th>\n",
       "      <th>price</th>\n",
       "      <th>bedrooms</th>\n",
       "      <th>bathrooms</th>\n",
       "      <th>sqft_living</th>\n",
       "      <th>sqft_lot</th>\n",
       "      <th>floors</th>\n",
       "      <th>waterfront</th>\n",
       "      <th>view</th>\n",
       "      <th>...</th>\n",
       "      <th>grade</th>\n",
       "      <th>sqft_above</th>\n",
       "      <th>sqft_basement</th>\n",
       "      <th>yr_built</th>\n",
       "      <th>yr_renovated</th>\n",
       "      <th>zipcode</th>\n",
       "      <th>lat</th>\n",
       "      <th>long</th>\n",
       "      <th>sqft_living15</th>\n",
       "      <th>sqft_lot15</th>\n",
       "    </tr>\n",
       "  </thead>\n",
       "  <tbody>\n",
       "    <tr>\n",
       "      <th>0</th>\n",
       "      <td>7129300520</td>\n",
       "      <td>20141013T000000</td>\n",
       "      <td>221900</td>\n",
       "      <td>3</td>\n",
       "      <td>1.00</td>\n",
       "      <td>1180</td>\n",
       "      <td>5650</td>\n",
       "      <td>1.0</td>\n",
       "      <td>0</td>\n",
       "      <td>0</td>\n",
       "      <td>...</td>\n",
       "      <td>7</td>\n",
       "      <td>1180</td>\n",
       "      <td>0</td>\n",
       "      <td>1955</td>\n",
       "      <td>0</td>\n",
       "      <td>98178</td>\n",
       "      <td>47.5112</td>\n",
       "      <td>-122.257</td>\n",
       "      <td>1340</td>\n",
       "      <td>5650</td>\n",
       "    </tr>\n",
       "    <tr>\n",
       "      <th>1</th>\n",
       "      <td>6414100192</td>\n",
       "      <td>20141209T000000</td>\n",
       "      <td>538000</td>\n",
       "      <td>3</td>\n",
       "      <td>2.25</td>\n",
       "      <td>2570</td>\n",
       "      <td>7242</td>\n",
       "      <td>2.0</td>\n",
       "      <td>0</td>\n",
       "      <td>0</td>\n",
       "      <td>...</td>\n",
       "      <td>7</td>\n",
       "      <td>2170</td>\n",
       "      <td>400</td>\n",
       "      <td>1951</td>\n",
       "      <td>1991</td>\n",
       "      <td>98125</td>\n",
       "      <td>47.7210</td>\n",
       "      <td>-122.319</td>\n",
       "      <td>1690</td>\n",
       "      <td>7639</td>\n",
       "    </tr>\n",
       "    <tr>\n",
       "      <th>2</th>\n",
       "      <td>5631500400</td>\n",
       "      <td>20150225T000000</td>\n",
       "      <td>180000</td>\n",
       "      <td>2</td>\n",
       "      <td>1.00</td>\n",
       "      <td>770</td>\n",
       "      <td>10000</td>\n",
       "      <td>1.0</td>\n",
       "      <td>0</td>\n",
       "      <td>0</td>\n",
       "      <td>...</td>\n",
       "      <td>6</td>\n",
       "      <td>770</td>\n",
       "      <td>0</td>\n",
       "      <td>1933</td>\n",
       "      <td>0</td>\n",
       "      <td>98028</td>\n",
       "      <td>47.7379</td>\n",
       "      <td>-122.233</td>\n",
       "      <td>2720</td>\n",
       "      <td>8062</td>\n",
       "    </tr>\n",
       "    <tr>\n",
       "      <th>3</th>\n",
       "      <td>2487200875</td>\n",
       "      <td>20141209T000000</td>\n",
       "      <td>604000</td>\n",
       "      <td>4</td>\n",
       "      <td>3.00</td>\n",
       "      <td>1960</td>\n",
       "      <td>5000</td>\n",
       "      <td>1.0</td>\n",
       "      <td>0</td>\n",
       "      <td>0</td>\n",
       "      <td>...</td>\n",
       "      <td>7</td>\n",
       "      <td>1050</td>\n",
       "      <td>910</td>\n",
       "      <td>1965</td>\n",
       "      <td>0</td>\n",
       "      <td>98136</td>\n",
       "      <td>47.5208</td>\n",
       "      <td>-122.393</td>\n",
       "      <td>1360</td>\n",
       "      <td>5000</td>\n",
       "    </tr>\n",
       "    <tr>\n",
       "      <th>4</th>\n",
       "      <td>1954400510</td>\n",
       "      <td>20150218T000000</td>\n",
       "      <td>510000</td>\n",
       "      <td>3</td>\n",
       "      <td>2.00</td>\n",
       "      <td>1680</td>\n",
       "      <td>8080</td>\n",
       "      <td>1.0</td>\n",
       "      <td>0</td>\n",
       "      <td>0</td>\n",
       "      <td>...</td>\n",
       "      <td>8</td>\n",
       "      <td>1680</td>\n",
       "      <td>0</td>\n",
       "      <td>1987</td>\n",
       "      <td>0</td>\n",
       "      <td>98074</td>\n",
       "      <td>47.6168</td>\n",
       "      <td>-122.045</td>\n",
       "      <td>1800</td>\n",
       "      <td>7503</td>\n",
       "    </tr>\n",
       "  </tbody>\n",
       "</table>\n",
       "<p>5 rows × 21 columns</p>\n",
       "</div>"
      ],
      "text/plain": [
       "           id             date   price  bedrooms  bathrooms  sqft_living  \\\n",
       "0  7129300520  20141013T000000  221900         3       1.00         1180   \n",
       "1  6414100192  20141209T000000  538000         3       2.25         2570   \n",
       "2  5631500400  20150225T000000  180000         2       1.00          770   \n",
       "3  2487200875  20141209T000000  604000         4       3.00         1960   \n",
       "4  1954400510  20150218T000000  510000         3       2.00         1680   \n",
       "\n",
       "   sqft_lot  floors  waterfront  view  ...  grade  sqft_above  sqft_basement  \\\n",
       "0      5650     1.0           0     0  ...      7        1180              0   \n",
       "1      7242     2.0           0     0  ...      7        2170            400   \n",
       "2     10000     1.0           0     0  ...      6         770              0   \n",
       "3      5000     1.0           0     0  ...      7        1050            910   \n",
       "4      8080     1.0           0     0  ...      8        1680              0   \n",
       "\n",
       "   yr_built  yr_renovated  zipcode      lat     long  sqft_living15  \\\n",
       "0      1955             0    98178  47.5112 -122.257           1340   \n",
       "1      1951          1991    98125  47.7210 -122.319           1690   \n",
       "2      1933             0    98028  47.7379 -122.233           2720   \n",
       "3      1965             0    98136  47.5208 -122.393           1360   \n",
       "4      1987             0    98074  47.6168 -122.045           1800   \n",
       "\n",
       "   sqft_lot15  \n",
       "0        5650  \n",
       "1        7639  \n",
       "2        8062  \n",
       "3        5000  \n",
       "4        7503  \n",
       "\n",
       "[5 rows x 21 columns]"
      ]
     },
     "execution_count": 13,
     "metadata": {},
     "output_type": "execute_result"
    }
   ],
   "source": [
    "data2.head()"
   ]
  },
  {
   "cell_type": "markdown",
   "metadata": {},
   "source": [
    "**Setup `X` and `Y`**"
   ]
  },
  {
   "cell_type": "code",
   "execution_count": 14,
   "metadata": {},
   "outputs": [],
   "source": [
    "# dataset-1\n",
    "x1 = data1['area']\n",
    "y1 = data1['price']\n",
    "\n",
    "# dataset-2\n",
    "x2 = data2['sqft_living']\n",
    "y2 = data2['price']"
   ]
  },
  {
   "cell_type": "code",
   "execution_count": 22,
   "metadata": {},
   "outputs": [
    {
     "name": "stdout",
     "output_type": "stream",
     "text": [
      "Area :[1600 3200 4800 2400 1200 1000 2000 3000 1800 2100]\n",
      "Price:[1000 2000 3000 1500  800  700 1300 1850 1150 1400]\n"
     ]
    }
   ],
   "source": [
    "print(f\"Area :{x1.head(10).values.flatten()}\")\n",
    "print(f\"Price:{y1.head(10).values.flatten()}\")"
   ]
  },
  {
   "cell_type": "code",
   "execution_count": 24,
   "metadata": {},
   "outputs": [
    {
     "name": "stdout",
     "output_type": "stream",
     "text": [
      "Sqft :[1180 2570  770 1960 1680 5420 1715 1060 1780]\n",
      "Price:[ 221900  538000  180000  604000  510000 1225000  257500  291850  229500]\n"
     ]
    }
   ],
   "source": [
    "print(f\"Sqft :{x2.head(9).values.flatten()}\")\n",
    "print(f\"Price:{y2.head(9).values.flatten()}\")"
   ]
  },
  {
   "cell_type": "markdown",
   "metadata": {},
   "source": [
    "**See Relationship** Lets see if there any relationship between the variables"
   ]
  },
  {
   "cell_type": "code",
   "execution_count": 25,
   "metadata": {},
   "outputs": [
    {
     "data": {
      "text/plain": [
       "Text(0, 0.5, 'price')"
      ]
     },
     "execution_count": 25,
     "metadata": {},
     "output_type": "execute_result"
    },
    {
     "data": {
      "image/png": "[encoded data removed]",
      "text/plain": [
       "<Figure size 432x288 with 1 Axes>"
      ]
     },
     "metadata": {
      "needs_background": "light"
     },
     "output_type": "display_data"
    }
   ],
   "source": [
    "# dataset-1\n",
    "import matplotlib.pyplot as plt\n",
    "plt.scatter(x1,y1)\n",
    "#plt.plot(x,y)\n",
    "plt.xlabel('area')\n",
    "plt.ylabel('price')"
   ]
  },
  {
   "cell_type": "code",
   "execution_count": 26,
   "metadata": {},
   "outputs": [
    {
     "data": {
      "text/plain": [
       "Text(0, 0.5, 'price')"
      ]
     },
     "execution_count": 26,
     "metadata": {},
     "output_type": "execute_result"
    },
    {
     "data": {
      "image/png": "[encoded data removed]",
      "text/plain": [
       "<Figure size 432x288 with 1 Axes>"
      ]
     },
     "metadata": {
      "needs_background": "light"
     },
     "output_type": "display_data"
    }
   ],
   "source": [
    "# dataset-2\n",
    "import matplotlib.pyplot as plt\n",
    "plt.scatter(x2,y2)\n",
    "#plt.plot(x,y)\n",
    "plt.xlabel('sqft_living')\n",
    "plt.ylabel('price')"
   ]
  },
  {
   "cell_type": "markdown",
   "metadata": {},
   "source": [
    "* So, we can see that there is a linear relationship between area and price. Therefore, we can apply linear regression here."
   ]
  },
  {
   "cell_type": "markdown",
   "metadata": {},
   "source": [
    "**Split Train-Test dataset**"
   ]
  },
  {
   "cell_type": "code",
   "execution_count": 27,
   "metadata": {},
   "outputs": [],
   "source": [
    "from sklearn.model_selection import train_test_split\n",
    "\n",
    "x1_train, x1_test, y1_train, y1_test = train_test_split(x1,y1, test_size=0.3, random_state=0)\n",
    "x2_train, x2_test, y2_train, y2_test = train_test_split(x2,y2, test_size=0.4, random_state=0)"
   ]
  },
  {
   "cell_type": "code",
   "execution_count": 44,
   "metadata": {},
   "outputs": [],
   "source": [
    "#x_train"
   ]
  },
  {
   "cell_type": "markdown",
   "metadata": {},
   "source": [
    "**Reshape Data** The ML models takes two dimensional data where we have one dimensioanl data. We have to make them two-dimensional."
   ]
  },
  {
   "cell_type": "code",
   "execution_count": 29,
   "metadata": {},
   "outputs": [],
   "source": [
    "import numpy as np\n",
    "x1_train = np.array(x1_train).reshape(-1, 1)\n",
    "x1_test  = np.array(x1_test).reshape(-1, 1)\n",
    "\n",
    "x2_train = np.array(x2_train).reshape(-1, 1)\n",
    "x2_test  = np.array(x2_test).reshape(-1, 1)"
   ]
  },
  {
   "cell_type": "code",
   "execution_count": 48,
   "metadata": {},
   "outputs": [],
   "source": [
    "#x_train"
   ]
  },
  {
   "cell_type": "markdown",
   "metadata": {},
   "source": [
    "**Load Linear Regression Model and Fit to our Dataset**"
   ]
  },
  {
   "cell_type": "code",
   "execution_count": 32,
   "metadata": {},
   "outputs": [
    {
     "data": {
      "text/plain": [
       "LinearRegression()"
      ]
     },
     "execution_count": 32,
     "metadata": {},
     "output_type": "execute_result"
    }
   ],
   "source": [
    "from sklearn.linear_model import LinearRegression\n",
    "\n",
    "lr1 = LinearRegression()\n",
    "lr2 = LinearRegression()\n",
    "lr1.fit(x1_train, y1_train)\n",
    "lr2.fit(x2_train, y2_train)"
   ]
  },
  {
   "cell_type": "markdown",
   "metadata": {},
   "source": [
    "The process is called training in ML. It basically finds the co-eficient `m` and intercept `c` of the linear_line equation: `y=mx+c`. In ML, m and c are called training parameters. We can check the co-eficient and intercept."
   ]
  },
  {
   "cell_type": "code",
   "execution_count": 38,
   "metadata": {},
   "outputs": [
    {
     "name": "stdout",
     "output_type": "stream",
     "text": [
      "Coefficients: [0.46719901]\n",
      "Intercept   : 404.24380366603646\n",
      "Coefficients: [273.32960645]\n",
      "Intercept   : -27937.199807046913\n"
     ]
    }
   ],
   "source": [
    "# dataset-1\n",
    "m1 = lr1.coef_\n",
    "c1 = lr1.intercept_\n",
    "print(\"Coefficients:\", m1)\n",
    "print(\"Intercept   :\", c1)\n",
    "\n",
    "# dataset-2\n",
    "m2 = lr2.coef_\n",
    "c2 = lr2.intercept_\n",
    "print(\"Coefficients:\", m2)\n",
    "print(\"Intercept   :\", c2)"
   ]
  },
  {
   "cell_type": "markdown",
   "metadata": {},
   "source": [
    "Now we have `m` and `c`, and we can calculate `y` for any `x` using the linear_line equation."
   ]
  },
  {
   "cell_type": "markdown",
   "metadata": {},
   "source": [
    "##### **Predict**"
   ]
  },
  {
   "cell_type": "markdown",
   "metadata": {},
   "source": [
    "**Checkout the Train Data**"
   ]
  },
  {
   "cell_type": "code",
   "execution_count": 41,
   "metadata": {},
   "outputs": [
    {
     "name": "stdout",
     "output_type": "stream",
     "text": [
      "For x=1800, y=[1245.20202789]\n",
      "For x=2500, y=[1572.24133731]\n",
      "For x=4800, y=[2646.79906827]\n",
      "For x=9000, y=[4609.03492479]\n"
     ]
    }
   ],
   "source": [
    "# For Dataset-1: Here, m=0.46719901 and c=404.24380366603646\n",
    "y1_pred1800 = m1*1800 + c1\n",
    "y1_pred2500 = m1*2500 + c1\n",
    "y1_pred4800 = m1*4800 + c1\n",
    "y1_pred9000 = m1*9000 + c1\n",
    "print(f\"For x=1800, y={y1_pred1800}\")\n",
    "print(f\"For x=2500, y={y1_pred2500}\")\n",
    "print(f\"For x=4800, y={y1_pred4800}\")\n",
    "print(f\"For x=9000, y={y1_pred9000}\")"
   ]
  },
  {
   "cell_type": "code",
   "execution_count": 43,
   "metadata": {},
   "outputs": [
    {
     "name": "stdout",
     "output_type": "stream",
     "text": [
      "For x=1800, y=[464056.09180488]\n",
      "For x=2500, y=[655386.81632062]\n",
      "For x=4800, y=[1284044.91115808]\n",
      "For x=9000, y=[2432029.25825257]\n"
     ]
    }
   ],
   "source": [
    "# For Dataset-2: Here, m=273.32960645 and c=-27937.199807046913\n",
    "y2_pred1800 = m2*1800 + c2\n",
    "y2_pred2500 = m2*2500 + c2\n",
    "y2_pred4800 = m2*4800 + c2\n",
    "y2_pred9000 = m2*9000 + c2\n",
    "print(f\"For x=1800, y={y2_pred1800}\")\n",
    "print(f\"For x=2500, y={y2_pred2500}\")\n",
    "print(f\"For x=4800, y={y2_pred4800}\")\n",
    "print(f\"For x=9000, y={y2_pred9000}\")"
   ]
  },
  {
   "cell_type": "code",
   "execution_count": 56,
   "metadata": {},
   "outputs": [
    {
     "name": "stdout",
     "output_type": "stream",
     "text": [
      "y1_train: [5000 1400 2000 1850 2400 1500 1000  700 4000]\n",
      "y1_pred : [5076.23393825 1385.36173193 1899.28064673 1805.84084404 2086.16025212\n",
      " 1525.52143597 1151.7622252   871.44281712 4048.39610864]\n",
      "y2_train: [350000 225000 640000 343000 585000 210000 800000 365000 226500 231000]\n",
      "y2_train: [390257.09806309 412123.46657917 392990.3941276  294591.73580521\n",
      " 562454.75012726 272725.36728913 794784.91561067 464056.09180488\n",
      " 420323.35477271 346524.36103092]\n"
     ]
    }
   ],
   "source": [
    "# By defining the Formula:\n",
    "pred_y1_train = m1*x1_train + c1\n",
    "print(f\"y1_train: {y1_train.values.flatten()}\")\n",
    "print(f\"y1_pred : {pred_y1_train.flatten()}\")  # Flatten made it 1-Dimensional, since it is 2-Dimensional.\n",
    "\n",
    "pred_y2_train = m2*x2_train + c2\n",
    "print(f\"y2_train: {y2_train.values.flatten()[:10]}\")\n",
    "print(f\"y2_train: {pred_y2_train.flatten()[:10]}\")"
   ]
  },
  {
   "cell_type": "code",
   "execution_count": 58,
   "metadata": {},
   "outputs": [
    {
     "name": "stdout",
     "output_type": "stream",
     "text": [
      "[5076.23393825 1385.36173193 1899.28064673 1805.84084404 2086.16025212\n",
      " 1525.52143597 1151.7622252   871.44281712 4048.39610864]\n",
      "[390257.09806309 412123.46657917 392990.3941276  ... 617120.67141747\n",
      " 619853.96748199 622587.2635465 ]\n"
     ]
    }
   ],
   "source": [
    "# Sklearn has a predict module\n",
    "pred_y1_train1 = lr1.predict(x1_train)\n",
    "print(pred_y1_train1)\n",
    "\n",
    "pred_y2_train1 = lr2.predict(x2_train)\n",
    "print(pred_y2_train1)"
   ]
  },
  {
   "cell_type": "markdown",
   "metadata": {},
   "source": [
    "`Check the best fit line`"
   ]
  },
  {
   "cell_type": "code",
   "execution_count": 59,
   "metadata": {},
   "outputs": [
    {
     "data": {
      "text/plain": [
       "Text(0, 0.5, 'price')"
      ]
     },
     "execution_count": 59,
     "metadata": {},
     "output_type": "execute_result"
    },
    {
     "data": {
      "image/png": "[encoded data removed]",
      "text/plain": [
       "<Figure size 432x288 with 1 Axes>"
      ]
     },
     "metadata": {
      "needs_background": "light"
     },
     "output_type": "display_data"
    }
   ],
   "source": [
    "# For actual x1_train and y1_train of Dataset-1\n",
    "import matplotlib.pyplot as plt\n",
    "plt.scatter(x1_train,y1_train, color=\"black\")     # Scatter shows a dotted line of points\n",
    "plt.plot(x1_train,pred_y1_train, color=\"red\")     # Plot shows a solid line joining the points\n",
    "plt.xlabel('area')\n",
    "plt.ylabel('price')"
   ]
  },
  {
   "cell_type": "code",
   "execution_count": 60,
   "metadata": {},
   "outputs": [
    {
     "data": {
      "text/plain": [
       "Text(0, 0.5, 'price')"
      ]
     },
     "execution_count": 60,
     "metadata": {},
     "output_type": "execute_result"
    },
    {
     "data": {
      "image/png": "[encoded data removed]",
      "text/plain": [
       "<Figure size 432x288 with 1 Axes>"
      ]
     },
     "metadata": {
      "needs_background": "light"
     },
     "output_type": "display_data"
    }
   ],
   "source": [
    "# For actual x2_train and y2_train of Dataset-2\n",
    "import matplotlib.pyplot as plt\n",
    "plt.scatter(x2_train,y2_train, color=\"black\")     # Scatter shows a dotted line of points\n",
    "plt.plot(x2_train,pred_y2_train, color=\"red\")     # Plot shows a solid line joining the points\n",
    "plt.xlabel('quft_living')\n",
    "plt.ylabel('price')"
   ]
  },
  {
   "cell_type": "markdown",
   "metadata": {},
   "source": [
    "**Checkout the Test Data**"
   ]
  },
  {
   "cell_type": "code",
   "execution_count": 61,
   "metadata": {},
   "outputs": [
    {
     "name": "stdout",
     "output_type": "stream",
     "text": [
      "Predicted: [1245.20202789 1338.64183058  964.88261982 2833.67867365 2646.79906827]\n",
      "Actual   : [1150 1300  800 3200 3000]\n"
     ]
    }
   ],
   "source": [
    "# Check using test data for dataset-1:\n",
    "pred_y1_test = lr1.predict(x1_test)\n",
    "print(f\"Predicted: {pred_y1_test}\")\n",
    "print(f\"Actual   : {y1_test.values.flatten()}\")"
   ]
  },
  {
   "cell_type": "code",
   "execution_count": 62,
   "metadata": {},
   "outputs": [
    {
     "name": "stdout",
     "output_type": "stream",
     "text": [
      "Predicted: [ 362924.13741798 1248512.06231944  365657.43348249 ...  614387.37535296\n",
      "  797518.21167518  529655.19735313]\n",
      "Actual   : [ 297000 1578000  562100 ... 1195000  530000  580000]\n"
     ]
    }
   ],
   "source": [
    "# Check using test data for dataset-2:\n",
    "pred_y2_test = lr2.predict(x2_test)\n",
    "print(f\"Predicted: {pred_y2_test}\")\n",
    "print(f\"Actual   : {y2_test.values.flatten()}\")"
   ]
  },
  {
   "cell_type": "markdown",
   "metadata": {},
   "source": [
    "`Check the best fit line`"
   ]
  },
  {
   "cell_type": "code",
   "execution_count": 63,
   "metadata": {},
   "outputs": [
    {
     "data": {
      "text/plain": [
       "Text(0, 0.5, 'price')"
      ]
     },
     "execution_count": 63,
     "metadata": {},
     "output_type": "execute_result"
    },
    {
     "data": {
      "image/png": "[encoded data removed]",
      "text/plain": [
       "<Figure size 432x288 with 1 Axes>"
      ]
     },
     "metadata": {
      "needs_background": "light"
     },
     "output_type": "display_data"
    }
   ],
   "source": [
    "# For actual x_train and y_train of Dataset-1\n",
    "import matplotlib.pyplot as plt\n",
    "plt.scatter(x1_test,y1_test, color=\"black\")     # Scatter shows a dotted line of points\n",
    "plt.plot(x1_test,pred_y1_test, color=\"red\")     # Plot shows a solid line joining the points\n",
    "plt.xlabel('area')\n",
    "plt.ylabel('price')"
   ]
  },
  {
   "cell_type": "code",
   "execution_count": 64,
   "metadata": {},
   "outputs": [
    {
     "data": {
      "text/plain": [
       "Text(0, 0.5, 'price')"
      ]
     },
     "execution_count": 64,
     "metadata": {},
     "output_type": "execute_result"
    },
    {
     "data": {
      "image/png": "[encoded data removed]",
      "text/plain": [
       "<Figure size 432x288 with 1 Axes>"
      ]
     },
     "metadata": {
      "needs_background": "light"
     },
     "output_type": "display_data"
    }
   ],
   "source": [
    "# For actual x_train and y_train of Dataset-2\n",
    "import matplotlib.pyplot as plt\n",
    "plt.scatter(x2_test,y2_test, color=\"black\")     # Scatter shows a dotted line of points\n",
    "plt.plot(x2_test,pred_y2_test, color=\"red\")     # Plot shows a solid line joining the points\n",
    "plt.xlabel('sqft_living')\n",
    "plt.ylabel('price')"
   ]
  }
 ],
 "metadata": {
  "kernelspec": {
   "display_name": "Python 3",
   "language": "python",
   "name": "python3"
  },
  "language_info": {
   "codemirror_mode": {
    "name": "ipython",
    "version": 3
   },
   "file_extension": ".py",
   "mimetype": "text/x-python",
   "name": "python",
   "nbconvert_exporter": "python",
   "pygments_lexer": "ipython3",
   "version": "3.9.13"
  },
  "orig_nbformat": 4
 },
 "nbformat": 4,
 "nbformat_minor": 2
}
