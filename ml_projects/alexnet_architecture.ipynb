{
 "cells": [
  {
   "cell_type": "markdown",
   "metadata": {},
   "source": [
    "#### **AlexNet Architecture in Python**\n",
    "###### **AlexNet architecture is one of the populer CNN architectures. It was developed by Alex Krizhevsky that won the ImageNet 2012 challange. It is simmiler to the LeNet-5.**"
   ]
  },
  {
   "cell_type": "markdown",
   "metadata": {},
   "source": [
    "#### **Architecture Details**\n",
    "###### **It was the first CNN architecture to stack convolutional layers directly on top of one another. It contains eight layers with weights, where the first five layers are convolutional and the remaining three are fully connected layers.**\n",
    "###### **Input Layer, the first convolutional layer, filters 227x227x3 input images with 96 kernals of size 11x11x3 with a stride of 4 pixels. The kernels of the second, forth and fifth convolutional layers are connected only to the kernel maps pf the previous layer. The kernels of the third convolutional layer are connected to all the kernel maps of the second convolutional layer, and the neurons in the fuly-connected layers are connected to all the neurons in the previous layer.**"
   ]
  }
 ],
 "metadata": {
  "language_info": {
   "name": "python"
  },
  "orig_nbformat": 4
 },
 "nbformat": 4,
 "nbformat_minor": 2
}
