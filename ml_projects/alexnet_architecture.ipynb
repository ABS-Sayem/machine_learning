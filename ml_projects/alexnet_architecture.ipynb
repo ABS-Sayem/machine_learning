{
 "cells": [
  {
   "cell_type": "markdown",
   "metadata": {},
   "source": [
    "#### **AlexNet Architecture in Python**\n",
    "###### **AlexNet architecture is one of the populer CNN architectures. It was developed by Alex Krizhevsky that won the ImageNet 2012 challange. It is simmiler to the LeNet-5.**\n",
    "\n",
    "###### **It was the first CNN architecture to stack convolutional layers directly on top of one another. It contains eight layers with weights, where the first five layers are convolutional and the remaining three are fully connected layers.**"
   ]
  }
 ],
 "metadata": {
  "language_info": {
   "name": "python"
  },
  "orig_nbformat": 4
 },
 "nbformat": 4,
 "nbformat_minor": 2
}
