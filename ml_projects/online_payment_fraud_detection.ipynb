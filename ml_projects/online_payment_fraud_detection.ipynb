{
 "cells": [
  {
   "cell_type": "markdown",
   "metadata": {},
   "source": [
    "#### Online Payment Fraud Detection\n",
    "*To identify online payment fraud with machine learning, we need to train a ml model for classifying fraudulent and nono-fraudulent payments. For this, we need a dataset containing information about online payment fraud, so that we can understand what type of transections lead to fraud. For this task, I collected a dataset from kaggle, which contains historical information about fraudulent transactions which can be used to detect fraud in online payments.*"
   ]
  }
 ],
 "metadata": {
  "language_info": {
   "name": "python"
  },
  "orig_nbformat": 4
 },
 "nbformat": 4,
 "nbformat_minor": 2
}
